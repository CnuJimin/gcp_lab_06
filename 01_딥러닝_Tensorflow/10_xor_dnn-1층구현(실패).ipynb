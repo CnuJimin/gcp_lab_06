{
 "cells": [
  {
   "cell_type": "code",
   "execution_count": 1,
   "id": "affaec5e",
   "metadata": {},
   "outputs": [],
   "source": [
    "# XOR : 1 layer\n",
    "# 2진 분류 : Logistic Regression\n",
    "# 활성화 함수 : sigmoid 함수 사용\n",
    "import tensorflow as tf\n",
    "import numpy as np\n",
    "tf.random.set_seed(5)"
   ]
  },
  {
   "cell_type": "code",
   "execution_count": 2,
   "id": "3118df40",
   "metadata": {},
   "outputs": [],
   "source": [
    "# train data set \n",
    "x_data = [[0,0],\n",
    "          [0,1],\n",
    "          [1,0],\n",
    "          [1,1]]\n",
    "\n",
    "y_data = [[0],\n",
    "          [1],\n",
    "          [1],\n",
    "          [0]]\n",
    "\n",
    "x_train = np.array(x_data,dtype=np.float32)\n",
    "y_train = np.array(y_data,dtype=np.float32)"
   ]
  },
  {
   "cell_type": "code",
   "execution_count": 3,
   "id": "7ddf3575",
   "metadata": {},
   "outputs": [],
   "source": [
    "# 변수 초기화 : weight, bias\n",
    "# (4,2) * (2,1) = (4,1)\n",
    "W = tf.Variable(tf.random.normal([2,1]),name='weight')\n",
    "b = tf.Variable(tf.random.normal([1]),name='bias')"
   ]
  },
  {
   "cell_type": "code",
   "execution_count": 4,
   "id": "f0783286",
   "metadata": {},
   "outputs": [],
   "source": [
    "# 예측 함수(hypothesis) : H(X) = sigmoid(X*W + B)\n",
    "def hypothesis(X):\n",
    "    return tf.sigmoid(tf.matmul(X,W) + b)  # 0과 1사이의 값이 출력"
   ]
  },
  {
   "cell_type": "code",
   "execution_count": 5,
   "id": "7e10ffc0",
   "metadata": {},
   "outputs": [],
   "source": [
    "# 비용 함수 : logloss, 2진분류모델\n",
    "def cost_func():\n",
    "    cost = -tf.reduce_mean(y_train*tf.math.log(hypothesis(x_train)) +\n",
    "                          (1 - y_train)*tf.math.log(1-hypothesis(x_train)))\n",
    "    return cost"
   ]
  },
  {
   "cell_type": "code",
   "execution_count": 6,
   "id": "c59484cf",
   "metadata": {},
   "outputs": [],
   "source": [
    "# 경사 하강법\n",
    "# learning_rate(학습율)을 0.01 로 설정하여 optimizer객체를 생성\n",
    "optimizer = tf.keras.optimizers.Adam(learning_rate=0.01)"
   ]
  },
  {
   "cell_type": "code",
   "execution_count": 7,
   "id": "84c4a6c0",
   "metadata": {},
   "outputs": [
    {
     "name": "stdout",
     "output_type": "stream",
     "text": [
      "***** Start Learning!!\n",
      "0000 cost:[ 0.7333478 ]  W: [[-0.170307 ]\n",
      " [-0.9402863]]  b: [0.23652855]\n",
      "1000 cost:[ 0.6931472 ]  W: [[-4.898185e-08]\n",
      " [ 3.608348e-08]]  b: [-6.0882535e-08]\n",
      "2000 cost:[ 0.6931472 ]  W: [[-4.898185e-08]\n",
      " [ 3.608348e-08]]  b: [-6.0882535e-08]\n",
      "3000 cost:[ 0.6931472 ]  W: [[-4.898185e-08]\n",
      " [ 3.608348e-08]]  b: [-6.0882535e-08]\n",
      "4000 cost:[ 0.6931472 ]  W: [[-4.898185e-08]\n",
      " [ 3.608348e-08]]  b: [-6.0882535e-08]\n",
      "5000 cost:[ 0.6931472 ]  W: [[-4.898185e-08]\n",
      " [ 3.608348e-08]]  b: [-6.0882535e-08]\n",
      "6000 cost:[ 0.6931472 ]  W: [[-4.898185e-08]\n",
      " [ 3.608348e-08]]  b: [-6.0882535e-08]\n",
      "7000 cost:[ 0.6931472 ]  W: [[-4.898185e-08]\n",
      " [ 3.608348e-08]]  b: [-6.0882535e-08]\n",
      "8000 cost:[ 0.6931472 ]  W: [[-4.898185e-08]\n",
      " [ 3.608348e-08]]  b: [-6.0882535e-08]\n",
      "9000 cost:[ 0.6931472 ]  W: [[-4.898185e-08]\n",
      " [ 3.608348e-08]]  b: [-6.0882535e-08]\n",
      "10000 cost:[ 0.6931472 ]  W: [[-4.898185e-08]\n",
      " [ 3.608348e-08]]  b: [-6.0882535e-08]\n",
      "***** Learning Finished!!\n"
     ]
    }
   ],
   "source": [
    "# 학습 시작\n",
    "print('***** Start Learning!!')\n",
    "for step in range(10001):\n",
    "    optimizer.minimize(cost_func,var_list=[W,b])\n",
    "    if step % 1000 == 0:\n",
    "        print('%04d'%step,'cost:[',cost_func().numpy(),']',\n",
    "             ' W:',W.numpy(),' b:',b.numpy())\n",
    "print('***** Learning Finished!!') "
   ]
  },
  {
   "cell_type": "code",
   "execution_count": 8,
   "id": "e1099212",
   "metadata": {},
   "outputs": [
    {
     "name": "stdout",
     "output_type": "stream",
     "text": [
      "Weight: [[-4.898185e-08]\n",
      " [ 3.608348e-08]]\n",
      "Bias: [-6.0882535e-08]\n"
     ]
    }
   ],
   "source": [
    "# weight과 bias 출력\n",
    "print('Weight:',W.numpy())\n",
    "print('Bias:',b.numpy())"
   ]
  },
  {
   "cell_type": "code",
   "execution_count": 9,
   "id": "1f46019f",
   "metadata": {},
   "outputs": [
    {
     "name": "stdout",
     "output_type": "stream",
     "text": [
      "tf.Tensor(\n",
      "[[0.]\n",
      " [0.]\n",
      " [0.]\n",
      " [0.]], shape=(4, 1), dtype=float32)\n",
      "Accuracy: 0.5\n",
      "Hypothesis:\n",
      " [[0.5]\n",
      " [0.5]\n",
      " [0.5]\n",
      " [0.5]]\n",
      "Predict:\n",
      " [[0.]\n",
      " [0.]\n",
      " [0.]\n",
      " [0.]]\n"
     ]
    }
   ],
   "source": [
    "# 평가 : 정확도(accuracy)\n",
    "def predict(X):\n",
    "    return tf.cast(hypothesis(X) > 0.5 ,dtype=tf.float32)\n",
    "\n",
    "# 학습 데이터를 그대로 검증 데이터로 사용하여 예측한 경우\n",
    "x_test = x_train\n",
    "y_test = y_train\n",
    "\n",
    "# 예측\n",
    "preds = predict(x_test)   \n",
    "print(preds)\n",
    "\n",
    "# 정확도\n",
    "accuracy = tf.reduce_mean(tf.cast(tf.equal(preds,y_test),dtype=tf.float32))\n",
    "print('Accuracy:',accuracy.numpy())\n",
    "print('Hypothesis:\\n',hypothesis(x_test).numpy())\n",
    "print('Predict:\\n',preds.numpy())  # Accuracy: 0.5\n",
    "\n",
    "# 1층(단층) 신경망으로 XOR Problem 해결 불가"
   ]
  },
  {
   "cell_type": "code",
   "execution_count": null,
   "id": "f5ab180f",
   "metadata": {},
   "outputs": [],
   "source": []
  }
 ],
 "metadata": {
  "kernelspec": {
   "display_name": "Python 3 (ipykernel)",
   "language": "python",
   "name": "python3"
  },
  "language_info": {
   "codemirror_mode": {
    "name": "ipython",
    "version": 3
   },
   "file_extension": ".py",
   "mimetype": "text/x-python",
   "name": "python",
   "nbconvert_exporter": "python",
   "pygments_lexer": "ipython3",
   "version": "3.9.13"
  }
 },
 "nbformat": 4,
 "nbformat_minor": 5
}
