{
  "nbformat": 4,
  "nbformat_minor": 0,
  "metadata": {
    "colab": {
      "provenance": []
    },
    "kernelspec": {
      "name": "python3",
      "display_name": "Python 3"
    },
    "language_info": {
      "name": "python"
    }
  },
  "cells": [
    {
      "cell_type": "code",
      "execution_count": 1,
      "metadata": {
        "colab": {
          "base_uri": "https://localhost:8080/",
          "height": 35
        },
        "id": "UxaXRztZJYv4",
        "outputId": "ed6a5427-ad59-48e7-92db-be385edfa25d"
      },
      "outputs": [
        {
          "output_type": "execute_result",
          "data": {
            "text/plain": [
              "'2.12.0'"
            ],
            "application/vnd.google.colaboratory.intrinsic+json": {
              "type": "string"
            }
          },
          "metadata": {},
          "execution_count": 1
        }
      ],
      "source": [
        "import tensorflow as tf\n",
        "tf.__version__"
      ]
    },
    {
      "cell_type": "code",
      "source": [
        "# 상수 : tf.constant()\n",
        "s = tf.constant('Hello Tensroflow')\n",
        "print(s)\n",
        "a = tf.constant([[1.,2.],\n",
        "                 [3.,4.]])\n",
        "b = tf.constant([[1.,1.],\n",
        "                 [0.,1.]])\n",
        "c = tf.matmul(a,b)  # 내적 곱셈\n",
        "print(c)"
      ],
      "metadata": {
        "colab": {
          "base_uri": "https://localhost:8080/"
        },
        "id": "4EaOVJnXKwVQ",
        "outputId": "cce543d3-262c-4155-b632-fd33e0f213a5"
      },
      "execution_count": 2,
      "outputs": [
        {
          "output_type": "stream",
          "name": "stdout",
          "text": [
            "tf.Tensor(b'Hello Tensroflow', shape=(), dtype=string)\n",
            "tf.Tensor(\n",
            "[[1. 3.]\n",
            " [3. 7.]], shape=(2, 2), dtype=float32)\n"
          ]
        }
      ]
    },
    {
      "cell_type": "code",
      "source": [
        "a = 10\n",
        "b = 20\n",
        "c = a + b\n",
        "c"
      ],
      "metadata": {
        "colab": {
          "base_uri": "https://localhost:8080/"
        },
        "id": "BIyE5AjQdhye",
        "outputId": "d083f37c-9207-44d1-84ee-ba093744fd56"
      },
      "execution_count": 3,
      "outputs": [
        {
          "output_type": "execute_result",
          "data": {
            "text/plain": [
              "30"
            ]
          },
          "metadata": {},
          "execution_count": 3
        }
      ]
    },
    {
      "cell_type": "code",
      "source": [
        "# 파이썬은 모든 변수(함수)가 객체로 생성\n",
        "a = 30\n",
        "print(hex(id(a)))\n",
        "b = 40\n",
        "print(hex(id(b)))\n",
        "b = a\n",
        "print(hex(id(b)))\n",
        "b =40\n",
        "print(hex(id(b)))\n",
        "b"
      ],
      "metadata": {
        "colab": {
          "base_uri": "https://localhost:8080/"
        },
        "id": "lcvki7Oddnsl",
        "outputId": "4266fcd1-7b13-4653-c42d-b28de901e29f"
      },
      "execution_count": 4,
      "outputs": [
        {
          "output_type": "stream",
          "name": "stdout",
          "text": [
            "0x7fb8ce634490\n",
            "0x7fb8ce6345d0\n",
            "0x7fb8ce634490\n",
            "0x7fb8ce6345d0\n"
          ]
        },
        {
          "output_type": "execute_result",
          "data": {
            "text/plain": [
              "40"
            ]
          },
          "metadata": {},
          "execution_count": 4
        }
      ]
    },
    {
      "cell_type": "code",
      "source": [
        "# 변수 : tf.Variable()\n",
        "# 초기 값이 미리 설정,주로 텐서플로 내부에서 연산시 변경되는 변수에 사용,weight과 bias\n",
        "a = tf.Variable(100)\n",
        "b = tf.Variable(200)\n",
        "c = tf.add(a,b)\n",
        "print(c)"
      ],
      "metadata": {
        "colab": {
          "base_uri": "https://localhost:8080/"
        },
        "id": "TfTxquByeK1N",
        "outputId": "715d21f8-9980-4719-8951-b315ecdd4c7c"
      },
      "execution_count": 5,
      "outputs": [
        {
          "output_type": "stream",
          "name": "stdout",
          "text": [
            "tf.Tensor(300, shape=(), dtype=int32)\n"
          ]
        }
      ]
    },
    {
      "cell_type": "code",
      "source": [],
      "metadata": {
        "id": "lxqsrF2InexV"
      },
      "execution_count": 5,
      "outputs": []
    },
    {
      "cell_type": "markdown",
      "source": [
        "### tf.Tensor: 텐서 객체\n",
        "#### 텐서는 다차원 배열로 넘파이(NumPy) ndarray 객체와 비슷하며,\n",
        "#### tf.Tensor 객체는 데이터 타입과 크기를 가지고 있다.\n",
        "#### 또한 tf.Tensor는 GPU 같은 가속기 메모리에 상주할 수 있다.\n",
        "#### 텐서플로는 텐서를 생성하고 이용하는 풍부한 연산 라이브러리(tf.add, tf.matmul, tf.linalg.inv 등.)를 제공하며\n",
        "#### 연산수행 시 자동으로 텐서를 파이썬 네이티브(native) 타입으로 변환하여 연산한다"
      ],
      "metadata": {
        "id": "eNt92cJcTtos"
      }
    },
    {
      "cell_type": "code",
      "source": [
        "# 연산자\n",
        "print(tf.add(1,2))\n",
        "print(tf.add([1,2],[3,4]))\n",
        "print(tf.square(5))\n",
        "print(tf.reduce_sum([1,2,3]))"
      ],
      "metadata": {
        "colab": {
          "base_uri": "https://localhost:8080/"
        },
        "id": "LqQj1sczTudC",
        "outputId": "1a9b25c9-71c5-44c7-d16d-d02a6bb91225"
      },
      "execution_count": 6,
      "outputs": [
        {
          "output_type": "stream",
          "name": "stdout",
          "text": [
            "tf.Tensor(3, shape=(), dtype=int32)\n",
            "tf.Tensor([4 6], shape=(2,), dtype=int32)\n",
            "tf.Tensor(25, shape=(), dtype=int32)\n",
            "tf.Tensor(6, shape=(), dtype=int32)\n"
          ]
        }
      ]
    },
    {
      "cell_type": "code",
      "source": [
        "[1,2] + [3,4]"
      ],
      "metadata": {
        "colab": {
          "base_uri": "https://localhost:8080/"
        },
        "id": "upowiGBVk-ZP",
        "outputId": "e49c06dc-2607-44d0-923b-b7646a9ee9fc"
      },
      "execution_count": 7,
      "outputs": [
        {
          "output_type": "execute_result",
          "data": {
            "text/plain": [
              "[1, 2, 3, 4]"
            ]
          },
          "metadata": {},
          "execution_count": 7
        }
      ]
    },
    {
      "cell_type": "code",
      "source": [
        "# 속성과 타입 변환\n",
        "a = tf.constant([[1.,2.],\n",
        "                 [3.,4.]])\n",
        "print(a)\n",
        "print(type(a))\n",
        "print(a.shape)\n",
        "print(a.dtype)\n",
        "\n",
        "# Tensor객체를 ndarray로 변환\n",
        "n = a.numpy()\n",
        "print(n, type(n)) # <class 'numpy.ndarray'>\n",
        "\n",
        "# 파이썬 native 타입으로 변환\n",
        "a = tf.constant(10)\n",
        "b = int(a)\n",
        "print(b, type(b))"
      ],
      "metadata": {
        "colab": {
          "base_uri": "https://localhost:8080/"
        },
        "id": "GpDNKqKalHs7",
        "outputId": "e96ee62d-df67-4be8-bd1b-62800f345fe3"
      },
      "execution_count": 8,
      "outputs": [
        {
          "output_type": "stream",
          "name": "stdout",
          "text": [
            "tf.Tensor(\n",
            "[[1. 2.]\n",
            " [3. 4.]], shape=(2, 2), dtype=float32)\n",
            "<class 'tensorflow.python.framework.ops.EagerTensor'>\n",
            "(2, 2)\n",
            "<dtype: 'float32'>\n",
            "[[1. 2.]\n",
            " [3. 4.]] <class 'numpy.ndarray'>\n",
            "10 <class 'int'>\n"
          ]
        }
      ]
    },
    {
      "cell_type": "code",
      "source": [
        "a = 10\n",
        "print(type(a))"
      ],
      "metadata": {
        "colab": {
          "base_uri": "https://localhost:8080/"
        },
        "id": "5UxYCDU1lxXV",
        "outputId": "8ea205b0-d67b-4ffd-b22a-81a67cc7bc37"
      },
      "execution_count": 9,
      "outputs": [
        {
          "output_type": "stream",
          "name": "stdout",
          "text": [
            "<class 'int'>\n"
          ]
        }
      ]
    },
    {
      "cell_type": "code",
      "source": [],
      "metadata": {
        "id": "U88GbPWPp8aN"
      },
      "execution_count": null,
      "outputs": []
    }
  ]
}