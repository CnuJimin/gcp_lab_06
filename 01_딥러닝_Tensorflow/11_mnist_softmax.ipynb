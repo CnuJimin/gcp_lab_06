{
 "cells": [
  {
   "cell_type": "code",
   "execution_count": 1,
   "id": "4f497c5c",
   "metadata": {},
   "outputs": [],
   "source": [
    "# mnist_softmax\n",
    "# MNIST(Modified National Institute of Standard Technology) Dataset\n",
    "# https://ko.wikipedia.org/wiki/MNIST\n",
    "# label : 0 ~ 9 , 손글씨체 이미지  28*28(784 byte) , gray scale\n",
    "# Train : 60000개 , Test : 10000개\n",
    "\n",
    "# mini batch : 큰 데이터를 쪼개어 1회에 작은 단위로 가져다가 학습, next_batch()\n",
    "# epoch : batch를 반복하여 전체 데이터가 모두 소진되었을 때를 1 epoch\n",
    "# Vanishing Gradient  : 신경망이 깊어 질수록 입력신호가 사라진다(줄어든다), sigmoid 사용시\n",
    "# Relu  : Rectified Linear Unit, DNN(deep neural net) 구현시 sigmoid 대신 사용됨\n",
    "# dropout : 전체 신경망의 일부를 사용하지 않고 학습, 예측시는 전체를 사용\n",
    "\n",
    "import tensorflow as tf\n",
    "import numpy as np\n",
    "import matplotlib.pyplot as plt\n",
    "tf.random.set_seed(5)"
   ]
  },
  {
   "cell_type": "code",
   "execution_count": 2,
   "id": "2c4d4990",
   "metadata": {},
   "outputs": [
    {
     "name": "stdout",
     "output_type": "stream",
     "text": [
      "(60000, 28, 28)\n"
     ]
    }
   ],
   "source": [
    "# mnist 데이터 가져오기\n",
    "mnist = tf.keras.datasets.mnist\n",
    "(x_train,y_train),(x_test,y_test)  = mnist.load_data()\n",
    "print(x_train.shape)"
   ]
  },
  {
   "cell_type": "code",
   "execution_count": 3,
   "id": "0e40a7a7",
   "metadata": {},
   "outputs": [],
   "source": [
    "# t = 10,20   # packing\n",
    "# a,b = t     # unpacking"
   ]
  },
  {
   "cell_type": "code",
   "execution_count": 4,
   "id": "9b460c65",
   "metadata": {},
   "outputs": [
    {
     "name": "stdout",
     "output_type": "stream",
     "text": [
      "<class 'numpy.ndarray'> (60000, 28, 28)\n",
      "<class 'numpy.ndarray'> (60000,)\n",
      "<class 'numpy.ndarray'> (10000, 28, 28)\n",
      "<class 'numpy.ndarray'> (10000,)\n",
      "5\n"
     ]
    },
    {
     "data": {
      "image/png": "[encoded data removed]",
      "text/plain": [
       "<Figure size 640x480 with 1 Axes>"
      ]
     },
     "metadata": {},
     "output_type": "display_data"
    }
   ],
   "source": [
    "# 이미지로 출력\n",
    "def show_one_image(n):\n",
    "    print(type(x_train),x_train.shape) # (60000, 28, 28)\n",
    "    print(type(y_train),y_train.shape) # (60000,)\n",
    "    print(type(x_test),x_test.shape)   # (10000, 28, 28)\n",
    "    print(type(y_test),y_test.shape)   # (10000,)\n",
    "    \n",
    "    image = x_train[n]\n",
    "    print(y_train[n])\n",
    "    \n",
    "    plt.imshow(image,cmap='Greys')\n",
    "    plt.show()\n",
    "\n",
    "show_one_image(0)    "
   ]
  },
  {
   "cell_type": "code",
   "execution_count": 5,
   "id": "cc0cb4d7",
   "metadata": {},
   "outputs": [
    {
     "name": "stdout",
     "output_type": "stream",
     "text": [
      "(60000, 784) <dtype: 'float32'>\n",
      "(10000, 784) <dtype: 'float32'>\n"
     ]
    }
   ],
   "source": [
    "# X값의 shape을 2차원으로 변환\n",
    "x_train = x_train.reshape(-1,28*28)\n",
    "x_test = x_test.reshape(-1,28*28)\n",
    "\n",
    "# X값의 타입을 float형으로 변환\n",
    "x_train = tf.cast(x_train,dtype=tf.float32)\n",
    "x_test = tf.cast(x_test,dtype=tf.float32)\n",
    "\n",
    "print(x_train.shape,x_train.dtype)\n",
    "print(x_test.shape,x_test.dtype)"
   ]
  },
  {
   "cell_type": "code",
   "execution_count": 9,
   "id": "70ed4fe0",
   "metadata": {},
   "outputs": [
    {
     "name": "stdout",
     "output_type": "stream",
     "text": [
      "(60000, 10)\n"
     ]
    }
   ],
   "source": [
    "# one-hot 인코딩\n",
    "nb_classes = 10   # class의 범주 갯수 (0~9)\n",
    "\n",
    "Y_one_hot = tf.one_hot(y_train,nb_classes)  \n",
    "print(Y_one_hot.shape)                     # (60000,10), Rank=2 (2차원) "
   ]
  },
  {
   "cell_type": "code",
   "execution_count": 11,
   "id": "efb31b95",
   "metadata": {},
   "outputs": [],
   "source": [
    "# 변수 초기화 : weight, bias\n",
    "# (60000,784) * (784,10) = (60000,10)\n",
    "W = tf.Variable(tf.random.normal([784,nb_classes]),name='weight')\n",
    "b = tf.Variable(tf.random.normal([nb_classes]),name='bias')"
   ]
  },
  {
   "cell_type": "code",
   "execution_count": 12,
   "id": "bf1428cd",
   "metadata": {},
   "outputs": [],
   "source": [
    "# 예측 함수(hypothesis) : H(X) = softmax(X*W + B)\n",
    "def logits(X):\n",
    "    return tf.matmul(X,W) + b\n",
    "\n",
    "def hypothesis(X):\n",
    "    return tf.nn.softmax(logits(X)) "
   ]
  },
  {
   "cell_type": "code",
   "execution_count": 13,
   "id": "ed269c8d",
   "metadata": {},
   "outputs": [],
   "source": [
    "#  비용함수 구현 방법 2 : tf.nn.softmax_cross_entropy_with_logits() 함수 사용\n",
    "def cost_func():\n",
    "    cost_i = tf.nn.softmax_cross_entropy_with_logits(logits=logits(x_train),\n",
    "                                                    labels=Y_one_hot)\n",
    "    cost = tf.reduce_mean(cost_i)\n",
    "    return cost"
   ]
  },
  {
   "cell_type": "code",
   "execution_count": 14,
   "id": "ee14894c",
   "metadata": {},
   "outputs": [],
   "source": [
    "# 경사 하강법\n",
    "# learning_rate(학습율)을 0.01 로 설정하여 optimizer객체를 생성\n",
    "optimizer = tf.keras.optimizers.Adam(learning_rate=0.01)"
   ]
  },
  {
   "cell_type": "code",
   "execution_count": 18,
   "id": "b6ac70dc",
   "metadata": {},
   "outputs": [],
   "source": [
    "# 방법 1. 전체 데이터를 한번에 학습, 비효율적이며 학습에 장시간 소요\n",
    "# 학습 시작\n",
    "# print('***** Start Learning!!')\n",
    "# for step in range(2001):\n",
    "#     optimizer.minimize(cost_func,var_list=[W,b])\n",
    "#     if step % 100 == 0:\n",
    "#         print('%04d'%step,'cost:[',cost_func().numpy(),']')\n",
    "# print('***** Learning Finished!!') "
   ]
  },
  {
   "cell_type": "code",
   "execution_count": null,
   "id": "f88b6a53",
   "metadata": {},
   "outputs": [],
   "source": [
    "# 방법 2. batch 사이즈로 나누어 학습, 효율적 이며 학습 시간 단축\n",
    "# 학습 시작\n",
    "\n",
    "training_epoch = 25\n",
    "batch_size = 600\n",
    "\n",
    "print('***** Start Learning!!')\n",
    "for epoch in range(training_epoch):  # 25회\n",
    "    \n",
    "    # 100 = 60000/600\n",
    "    total_batch = x_train.shape[0]/batch_size\n",
    "    for k in range(total_batch):  # 100회\n",
    "        batch_xs = x_train[0 + k*batch_size:batch_size + k*batch_size]\n",
    "        batch_ys = Y_one_hot[0 + k*batch_size:batch_size + k*batch_size]\n",
    "        \n",
    "        \n",
    "    \n",
    "        optimizer.minimize(cost_func,var_list=[W,b])\n",
    "        if step % 100 == 0:\n",
    "            print('%04d'%step,'cost:[',cost_func().numpy(),']')\n",
    "print('***** Learning Finished!!') "
   ]
  },
  {
   "cell_type": "code",
   "execution_count": 19,
   "id": "1c962835",
   "metadata": {},
   "outputs": [
    {
     "data": {
      "text/plain": [
       "TensorShape([60000, 784])"
      ]
     },
     "execution_count": 19,
     "metadata": {},
     "output_type": "execute_result"
    }
   ],
   "source": [
    "x_train.shape"
   ]
  },
  {
   "cell_type": "code",
   "execution_count": 21,
   "id": "1c2265fc",
   "metadata": {},
   "outputs": [
    {
     "data": {
      "text/plain": [
       "<tf.Tensor: shape=(600, 784), dtype=float32, numpy=\n",
       "array([[0., 0., 0., ..., 0., 0., 0.],\n",
       "       [0., 0., 0., ..., 0., 0., 0.],\n",
       "       [0., 0., 0., ..., 0., 0., 0.],\n",
       "       ...,\n",
       "       [0., 0., 0., ..., 0., 0., 0.],\n",
       "       [0., 0., 0., ..., 0., 0., 0.],\n",
       "       [0., 0., 0., ..., 0., 0., 0.]], dtype=float32)>"
      ]
     },
     "execution_count": 21,
     "metadata": {},
     "output_type": "execute_result"
    }
   ],
   "source": [
    "x_train[:600]"
   ]
  },
  {
   "cell_type": "code",
   "execution_count": null,
   "id": "a408b06f",
   "metadata": {},
   "outputs": [],
   "source": []
  }
 ],
 "metadata": {
  "kernelspec": {
   "display_name": "Python 3 (ipykernel)",
   "language": "python",
   "name": "python3"
  },
  "language_info": {
   "codemirror_mode": {
    "name": "ipython",
    "version": 3
   },
   "file_extension": ".py",
   "mimetype": "text/x-python",
   "name": "python",
   "nbconvert_exporter": "python",
   "pygments_lexer": "ipython3",
   "version": "3.9.13"
  }
 },
 "nbformat": 4,
 "nbformat_minor": 5
}
