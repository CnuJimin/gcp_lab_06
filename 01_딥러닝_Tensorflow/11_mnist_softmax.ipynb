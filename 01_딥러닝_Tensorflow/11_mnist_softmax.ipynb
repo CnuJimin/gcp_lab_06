{
 "cells": [
  {
   "cell_type": "code",
   "execution_count": 1,
   "id": "6b720d66",
   "metadata": {},
   "outputs": [],
   "source": [
    "# mnist_softmax\n",
    "# MNIST(Modified National Institute of Standard Technology) Dataset\n",
    "# https://ko.wikipedia.org/wiki/MNIST\n",
    "# label : 0 ~ 9 , 손글씨체 이미지  28*28(784 byte) , gray scale\n",
    "# Train : 60000개 , Test : 10000개\n",
    "\n",
    "# mini batch : 큰 데이터를 쪼개어 1회에 작은 단위로 가져다가 학습, next_batch()\n",
    "# epoch : batch를 반복하여 전체 데이터가 모두 소진되었을 때를 1 epoch\n",
    "# Vanishing Gradient  : 신경망이 깊어 질수록 입력신호가 사라진다(줄어든다), sigmoid 사용시\n",
    "# Relu  : Rectified Linear Unit, DNN(deep neural net) 구현시 sigmoid 대신 사용됨\n",
    "# dropout : 전체 신경망의 일부를 사용하지 않고 학습, 예측시는 전체를 사용\n",
    "\n",
    "import tensorflow as tf\n",
    "import numpy as np\n",
    "import matplotlib.pyplot as plt\n",
    "tf.random.set_seed(5)"
   ]
  },
  {
   "cell_type": "code",
   "execution_count": 2,
   "id": "3da48442",
   "metadata": {},
   "outputs": [
    {
     "name": "stdout",
     "output_type": "stream",
     "text": [
      "(60000, 28, 28)\n"
     ]
    }
   ],
   "source": [
    "# mnist 데이터 가져오기\n",
    "mnist = tf.keras.datasets.mnist\n",
    "(x_train,y_train),(x_test,y_test)  = mnist.load_data()\n",
    "print(x_train.shape)"
   ]
  },
  {
   "cell_type": "code",
   "execution_count": 3,
   "id": "5d15badf",
   "metadata": {},
   "outputs": [],
   "source": [
    "# t = 10,20   # packing\n",
    "# a,b = t     # unpacking"
   ]
  },
  {
   "cell_type": "code",
   "execution_count": 4,
   "id": "74f0e641",
   "metadata": {},
   "outputs": [
    {
     "name": "stdout",
     "output_type": "stream",
     "text": [
      "<class 'numpy.ndarray'> (60000, 28, 28)\n",
      "<class 'numpy.ndarray'> (60000,)\n",
      "<class 'numpy.ndarray'> (10000, 28, 28)\n",
      "<class 'numpy.ndarray'> (10000,)\n",
      "5\n"
     ]
    },
    {
     "data": {
      "image/png": "[encoded data removed]",
      "text/plain": [
       "<Figure size 640x480 with 1 Axes>"
      ]
     },
     "metadata": {},
     "output_type": "display_data"
    }
   ],
   "source": [
    "# 이미지로 출력\n",
    "def show_one_image(n):\n",
    "    print(type(x_train),x_train.shape) # (60000, 28, 28)\n",
    "    print(type(y_train),y_train.shape) # (60000,)\n",
    "    print(type(x_test),x_test.shape)   # (10000, 28, 28)\n",
    "    print(type(y_test),y_test.shape)   # (10000,)\n",
    "    \n",
    "    image = x_train[n]\n",
    "    print(y_train[n])\n",
    "    \n",
    "    plt.imshow(image,cmap='Greys')\n",
    "    plt.show()\n",
    "\n",
    "show_one_image(0)    "
   ]
  },
  {
   "cell_type": "code",
   "execution_count": 5,
   "id": "bb864a2d",
   "metadata": {},
   "outputs": [
    {
     "name": "stdout",
     "output_type": "stream",
     "text": [
      "(60000, 784) <dtype: 'float32'>\n",
      "(10000, 784) <dtype: 'float32'>\n"
     ]
    }
   ],
   "source": [
    "# X값의 shape을 2차원으로 변환\n",
    "x_train = x_train.reshape(-1,28*28)\n",
    "x_test = x_test.reshape(-1,28*28)\n",
    "\n",
    "# X값의 타입을 float형으로 변환\n",
    "x_train = tf.cast(x_train,dtype=tf.float32)\n",
    "x_test = tf.cast(x_test,dtype=tf.float32)\n",
    "\n",
    "print(x_train.shape,x_train.dtype)\n",
    "print(x_test.shape,x_test.dtype)"
   ]
  },
  {
   "cell_type": "code",
   "execution_count": 6,
   "id": "4cac910f",
   "metadata": {},
   "outputs": [
    {
     "name": "stdout",
     "output_type": "stream",
     "text": [
      "(60000, 10)\n"
     ]
    }
   ],
   "source": [
    "# one-hot 인코딩\n",
    "nb_classes = 10   # class의 범주 갯수 (0~9)\n",
    "\n",
    "Y_one_hot = tf.one_hot(y_train,nb_classes)  \n",
    "print(Y_one_hot.shape)                     # (60000,10), Rank=2 (2차원) "
   ]
  },
  {
   "cell_type": "code",
   "execution_count": 7,
   "id": "e4dc553d",
   "metadata": {},
   "outputs": [],
   "source": [
    "# 변수 초기화 : weight, bias\n",
    "# (60000,784) * (784,10) = (60000,10)\n",
    "W = tf.Variable(tf.random.normal([784,nb_classes]),name='weight')\n",
    "b = tf.Variable(tf.random.normal([nb_classes]),name='bias')"
   ]
  },
  {
   "cell_type": "code",
   "execution_count": 8,
   "id": "b9074af3",
   "metadata": {},
   "outputs": [],
   "source": [
    "# 예측 함수(hypothesis) : H(X) = softmax(X*W + B)\n",
    "def logits(X):\n",
    "    return tf.matmul(X,W) + b\n",
    "\n",
    "def hypothesis(X):\n",
    "    return tf.nn.softmax(logits(X)) "
   ]
  },
  {
   "cell_type": "code",
   "execution_count": 9,
   "id": "76f08506",
   "metadata": {},
   "outputs": [],
   "source": [
    "#  비용함수 구현 방법 2 : tf.nn.softmax_cross_entropy_with_logits() 함수 사용\n",
    "def cost_func():\n",
    "    cost_i = tf.nn.softmax_cross_entropy_with_logits(logits=logits(x_train),\n",
    "                                                    labels=Y_one_hot)\n",
    "    cost = tf.reduce_mean(cost_i)\n",
    "    return cost"
   ]
  },
  {
   "cell_type": "code",
   "execution_count": 10,
   "id": "4a30b447",
   "metadata": {},
   "outputs": [],
   "source": [
    "# 경사 하강법\n",
    "# learning_rate(학습율)을 0.01 로 설정하여 optimizer객체를 생성\n",
    "optimizer = tf.keras.optimizers.Adam(learning_rate=0.01)"
   ]
  },
  {
   "cell_type": "code",
   "execution_count": 11,
   "id": "33680cf7",
   "metadata": {},
   "outputs": [],
   "source": [
    "# 방법 1. 전체 데이터를 한번에 학습, 비효율적이며 학습에 장시간 소요\n",
    "# 학습 시작\n",
    "# print('***** Start Learning!!')\n",
    "# for step in range(2001):\n",
    "#     optimizer.minimize(cost_func,var_list=[W,b])\n",
    "#     if step % 100 == 0:\n",
    "#         print('%04d'%step,'cost:[',cost_func().numpy(),']')\n",
    "# print('***** Learning Finished!!') "
   ]
  },
  {
   "cell_type": "code",
   "execution_count": 12,
   "id": "5178e089",
   "metadata": {},
   "outputs": [
    {
     "name": "stdout",
     "output_type": "stream",
     "text": [
      "***** Start Learning!!\n",
      "Epoch: 0001 cost: 679.823782349\n",
      "Epoch: 0002 cost: 204.062102509\n",
      "Epoch: 0003 cost: 148.453425522\n",
      "Epoch: 0004 cost: 121.039348030\n",
      "Epoch: 0005 cost: 103.957911606\n",
      "Epoch: 0006 cost: 91.869865303\n",
      "Epoch: 0007 cost: 82.760125275\n",
      "Epoch: 0008 cost: 75.365905933\n",
      "Epoch: 0009 cost: 69.133796654\n",
      "Epoch: 0010 cost: 63.695889606\n",
      "Epoch: 0011 cost: 59.573347244\n",
      "Epoch: 0012 cost: 55.465885010\n",
      "Epoch: 0013 cost: 51.764984074\n",
      "Epoch: 0014 cost: 48.757198486\n",
      "Epoch: 0015 cost: 46.011251469\n",
      "Epoch: 0016 cost: 43.432359486\n",
      "Epoch: 0017 cost: 41.128218250\n",
      "Epoch: 0018 cost: 39.169057598\n",
      "Epoch: 0019 cost: 37.508971748\n",
      "Epoch: 0020 cost: 35.861348495\n",
      "Epoch: 0021 cost: 34.096969032\n",
      "Epoch: 0022 cost: 32.790384102\n",
      "Epoch: 0023 cost: 31.149619370\n",
      "Epoch: 0024 cost: 30.043558474\n",
      "Epoch: 0025 cost: 28.861930189\n",
      "***** Learning Finished!!\n"
     ]
    }
   ],
   "source": [
    "# 방법 2. batch 사이즈로 나누어 학습, 효율적 이며 학습 시간 단축\n",
    "# 학습 시작\n",
    "\n",
    "training_epoch = 25\n",
    "batch_size = 600\n",
    "\n",
    "print('***** Start Learning!!')\n",
    "for epoch in range(training_epoch):  # 25회\n",
    "    \n",
    "    avg_cost = 0\n",
    "    \n",
    "    # 100 = 60000/600\n",
    "    total_batch = int(x_train.shape[0]/batch_size)\n",
    "    for k in range(total_batch):  # 100회\n",
    "        batch_xs = x_train[0 + k*batch_size:batch_size + k*batch_size]   # 600개의 X 데이터\n",
    "        batch_ys = Y_one_hot[0 + k*batch_size:batch_size + k*batch_size] # 600개의 Y 데이터\n",
    "        \n",
    "        # 비용 함수\n",
    "        def cost_func_batch():\n",
    "            cost_i = tf.nn.softmax_cross_entropy_with_logits(logits=logits(batch_xs),\n",
    "                                                            labels=batch_ys)\n",
    "            cost = tf.reduce_mean(cost_i)\n",
    "            return cost\n",
    "        \n",
    "        optimizer.minimize(cost_func_batch,var_list=[W,b])\n",
    "        avg_cost += cost_func_batch().numpy()/total_batch\n",
    "        \n",
    "    print('Epoch:','%04d'%(epoch + 1),'cost:','{:.9f}'.format(avg_cost))\n",
    "print('***** Learning Finished!!') "
   ]
  },
  {
   "cell_type": "code",
   "execution_count": 15,
   "id": "ae518b89",
   "metadata": {},
   "outputs": [
    {
     "name": "stdout",
     "output_type": "stream",
     "text": [
      "(10000, 10)\n",
      "Accuracy: 0.8841\n"
     ]
    }
   ],
   "source": [
    "# 정확도 측정(평가)\n",
    "\n",
    "# y_test값을 one-hot인코딩\n",
    "Y_one_hot = tf.one_hot(y_test,nb_classes)  \n",
    "print(Y_one_hot.shape)                     # (10000,10), Rank=2 (2차원)\n",
    "\n",
    "def predict(X):\n",
    "    return tf.argmax(hypothesis(X),axis=1)\n",
    "\n",
    "correct_predict = tf.equal(predict(x_test),tf.argmax(Y_one_hot,1))\n",
    "accuracy = tf.reduce_mean(tf.cast(correct_predict,dtype=tf.float32))\n",
    "print('Accuracy:',accuracy.numpy())  # Accuracy: 0.8841"
   ]
  },
  {
   "cell_type": "code",
   "execution_count": 20,
   "id": "15d166ef",
   "metadata": {},
   "outputs": [
    {
     "name": "stdout",
     "output_type": "stream",
     "text": [
      "***** Predict\n",
      " [7 2 1 0 4 1 4 9 6 9 0 1 9 0 1 5 9 7 3 4 9 6 6 5 4 0 7 4 0 1 3 1 3 6 7 2 7\n",
      " 1 2 1 1 7 4 2 3 5 1 2 4 4 6 3 5 4 6 0 4 1 9 5 7 8 9 2 7 4 3 4 3 0 7 0 2 9\n",
      " 1 7 5 2 9 7 7 6 2 7 8 4 7 3 6 1 3 6 9 3 1 4 1 7 6 9] \n",
      " [7 2 1 0 4 1 4 9 5 9 0 6 9 0 1 5 9 7 3 4 9 6 6 5 4 0 7 4 0 1 3 1 3 4 7 2 7\n",
      " 1 2 1 1 7 4 2 3 5 1 2 4 4 6 3 5 5 6 0 4 1 9 5 7 8 9 3 7 4 6 4 3 0 7 0 2 9\n",
      " 1 7 3 2 9 7 7 6 2 7 8 4 7 3 6 1 3 6 9 3 1 4 1 7 6 9]\n"
     ]
    }
   ],
   "source": [
    "# 예측\n",
    "print('***** Predict')\n",
    "pred = predict(x_test).numpy()\n",
    "print('',pred[:100],'\\n',y_test[:100])"
   ]
  },
  {
   "cell_type": "code",
   "execution_count": 26,
   "id": "260b54f0",
   "metadata": {},
   "outputs": [
    {
     "name": "stdout",
     "output_type": "stream",
     "text": [
      "random =  3999 Label: 9\n",
      "Prediction :  [9]\n"
     ]
    },
    {
     "data": {
      "image/png": "[encoded data removed]",
      "text/plain": [
       "<Figure size 640x480 with 1 Axes>"
      ]
     },
     "metadata": {},
     "output_type": "display_data"
    }
   ],
   "source": [
    "# 임의의 test 데이터로 예측한 값 시각화하기\n",
    "r = np.random.randint(0,x_test.shape[0] - 1) # 0 to 9999 random int number\n",
    "# r = 1411   # Label: 0, Prediction :  [9]\n",
    "\n",
    "print('random = ',r, 'Label:',y_test[r])\n",
    "\n",
    "print('Prediction : ',predict(x_test[r:r+1]).numpy())\n",
    "\n",
    "image = tf.reshape(x_test[r],(28,28))\n",
    "plt.imshow(image,cmap='Greys')\n",
    "plt.show()"
   ]
  },
  {
   "cell_type": "code",
   "execution_count": null,
   "id": "2a7d0e10",
   "metadata": {},
   "outputs": [],
   "source": []
  },
  {
   "cell_type": "code",
   "execution_count": null,
   "id": "41addfe3",
   "metadata": {},
   "outputs": [],
   "source": []
  }
 ],
 "metadata": {
  "kernelspec": {
   "display_name": "Python 3 (ipykernel)",
   "language": "python",
   "name": "python3"
  },
  "language_info": {
   "codemirror_mode": {
    "name": "ipython",
    "version": 3
   },
   "file_extension": ".py",
   "mimetype": "text/x-python",
   "name": "python",
   "nbconvert_exporter": "python",
   "pygments_lexer": "ipython3",
   "version": "3.9.13"
  }
 },
 "nbformat": 4,
 "nbformat_minor": 5
}
