{
 "cells": [
  {
   "cell_type": "code",
   "execution_count": 1,
   "id": "d3d0a923",
   "metadata": {},
   "outputs": [],
   "source": [
    "# 03_logistic_regression_diabetes\n",
    "# 당뇨병 진단 2진 분류 모델\n",
    "\n",
    "import tensorflow as tf\n",
    "import numpy as np\n",
    "tf.random.set_seed(5)"
   ]
  },
  {
   "cell_type": "code",
   "execution_count": 6,
   "id": "f0b94ab6",
   "metadata": {},
   "outputs": [
    {
     "name": "stdout",
     "output_type": "stream",
     "text": [
      "(531, 8) (531, 1)\n",
      "(228, 8) (228, 1)\n"
     ]
    }
   ],
   "source": [
    "# 데이터 불러오기\n",
    "xy = np.loadtxt('data-03-diabetes.csv',delimiter=',',dtype=np.float32)\n",
    "xy.shape  # (759, 9)\n",
    "\n",
    "# 학습용 데이터 분리 : 70%, 531개\n",
    "x_train = xy[:531,:-1]   # X\n",
    "y_train = xy[:531,[-1]]  # Y\n",
    "print(x_train.shape,y_train.shape)  # (531,8)  (531,1)\n",
    "\n",
    "# 검증용 데이터 분리 : 30%, 228개 \n",
    "x_test = xy[531:,:-1]    # X\n",
    "y_test = xy[531:,[-1]]   # Y\n",
    "print(x_test.shape,y_test.shape)    # (228,8)  (228,1)"
   ]
  },
  {
   "cell_type": "code",
   "execution_count": 7,
   "id": "c39b8ac1",
   "metadata": {},
   "outputs": [
    {
     "name": "stdout",
     "output_type": "stream",
     "text": [
      "<tf.Variable 'weight:0' shape=(8, 1) dtype=float32, numpy=\n",
      "array([[-0.18030666],\n",
      "       [-0.95028627],\n",
      "       [-0.03964049],\n",
      "       [-0.7425406 ],\n",
      "       [ 1.3231523 ],\n",
      "       [-0.61854804],\n",
      "       [ 0.8540664 ],\n",
      "       [-0.08899953]], dtype=float32)>\n",
      "<tf.Variable 'bias:0' shape=(1,) dtype=float32, numpy=array([0.22652863], dtype=float32)>\n"
     ]
    }
   ],
   "source": [
    "# 변수 초기화 : weight, bias\n",
    "# (m,n) * (n,l) = (m,l)   : 행렬의 내적 곱셈 공식\n",
    "# (531,8) * (8,1) = (531,1)\n",
    "W = tf.Variable(tf.random.normal([8,1]),name='weight')\n",
    "b = tf.Variable(tf.random.normal([1]),name='bias')\n",
    "print(W)\n",
    "print(b)"
   ]
  },
  {
   "cell_type": "code",
   "execution_count": 8,
   "id": "b6bf318c",
   "metadata": {},
   "outputs": [],
   "source": [
    "# 예측 함수(hypothesis) : H(X) = sigmoid(X*W + B)\n",
    "def hypothesis(X):\n",
    "    return tf.sigmoid(tf.matmul(X,W) + b)  # 0과 1사이의 값이 출력"
   ]
  },
  {
   "cell_type": "code",
   "execution_count": 9,
   "id": "81d14459",
   "metadata": {},
   "outputs": [],
   "source": [
    "# 비용 함수 : logloss, 2진분류모델\n",
    "def cost_func():\n",
    "    cost = -tf.reduce_mean(y_train*tf.math.log(hypothesis(x_train)) +\n",
    "                          (1 - y_train)*tf.math.log(1-hypothesis(x_train)))\n",
    "    return cost"
   ]
  },
  {
   "cell_type": "code",
   "execution_count": 10,
   "id": "8fb19ee2",
   "metadata": {},
   "outputs": [],
   "source": [
    "# 경사 하강법\n",
    "# learning_rate(학습율)을 0.01 로 설정하여 optimizer객체를 생성\n",
    "optimizer = tf.keras.optimizers.Adam(learning_rate=0.01)"
   ]
  },
  {
   "cell_type": "code",
   "execution_count": 11,
   "id": "9a2e1886",
   "metadata": {},
   "outputs": [
    {
     "name": "stdout",
     "output_type": "stream",
     "text": [
      "***** Start Learning!!\n",
      "0000 cost:[ 0.8006097 ]  W: [[-0.19030644]\n",
      " [-0.9402895 ]\n",
      " [-0.02964124]\n",
      " [-0.7525403 ]\n",
      " [ 1.3131526 ]\n",
      " [-0.6285471 ]\n",
      " [ 0.8440665 ]\n",
      " [-0.09899934]]  b: [0.23652852]\n",
      "1000 cost:[ 0.48674083 ]  W: [[-0.7548764 ]\n",
      " [-3.3620791 ]\n",
      " [ 0.21074554]\n",
      " [-0.5814701 ]\n",
      " [-0.1694179 ]\n",
      " [-2.5226405 ]\n",
      " [-0.7677587 ]\n",
      " [ 0.12745763]]  b: [0.48014042]\n",
      "2000 cost:[ 0.4866587 ]  W: [[-0.76455224]\n",
      " [-3.331515  ]\n",
      " [ 0.24341252]\n",
      " [-0.5476674 ]\n",
      " [-0.21579494]\n",
      " [-2.5522876 ]\n",
      " [-0.86375153]\n",
      " [ 0.11404339]]  b: [0.3838595]\n",
      "3000 cost:[ 0.4866587 ]  W: [[-0.76468694]\n",
      " [-3.3311474 ]\n",
      " [ 0.2438957 ]\n",
      " [-0.54806787]\n",
      " [-0.21599682]\n",
      " [-2.5523124 ]\n",
      " [-0.8651051 ]\n",
      " [ 0.11381982]]  b: [0.38240486]\n",
      "4000 cost:[ 0.4866587 ]  W: [[-0.7646867 ]\n",
      " [-3.3311465 ]\n",
      " [ 0.24389622]\n",
      " [-0.5480683 ]\n",
      " [-0.21599673]\n",
      " [-2.552314  ]\n",
      " [-0.8651056 ]\n",
      " [ 0.11381892]]  b: [0.38240364]\n",
      "5000 cost:[ 0.4866587 ]  W: [[-0.76468647]\n",
      " [-3.3311458 ]\n",
      " [ 0.24389595]\n",
      " [-0.5480686 ]\n",
      " [-0.21599661]\n",
      " [-2.5523145 ]\n",
      " [-0.8651055 ]\n",
      " [ 0.11381891]]  b: [0.38240367]\n",
      "6000 cost:[ 0.4866587 ]  W: [[-0.7646864 ]\n",
      " [-3.3311448 ]\n",
      " [ 0.2438959 ]\n",
      " [-0.5480687 ]\n",
      " [-0.21599703]\n",
      " [-2.5523152 ]\n",
      " [-0.86510605]\n",
      " [ 0.11381859]]  b: [0.3824027]\n",
      "7000 cost:[ 0.48665863 ]  W: [[-0.7646868 ]\n",
      " [-3.3311443 ]\n",
      " [ 0.2438958 ]\n",
      " [-0.5480687 ]\n",
      " [-0.21599704]\n",
      " [-2.5523152 ]\n",
      " [-0.8651062 ]\n",
      " [ 0.11381882]]  b: [0.3824024]\n",
      "8000 cost:[ 0.4866587 ]  W: [[-0.76468676]\n",
      " [-3.3311446 ]\n",
      " [ 0.24389622]\n",
      " [-0.5480684 ]\n",
      " [-0.21599686]\n",
      " [-2.5523157 ]\n",
      " [-0.8651062 ]\n",
      " [ 0.11381873]]  b: [0.38240257]\n",
      "9000 cost:[ 0.4866587 ]  W: [[-0.7646866 ]\n",
      " [-3.3311446 ]\n",
      " [ 0.24389584]\n",
      " [-0.5480683 ]\n",
      " [-0.21599707]\n",
      " [-2.5523157 ]\n",
      " [-0.8651063 ]\n",
      " [ 0.11381882]]  b: [0.38240263]\n",
      "10000 cost:[ 0.4866587 ]  W: [[-0.76468706]\n",
      " [-3.331145  ]\n",
      " [ 0.24389529]\n",
      " [-0.5480679 ]\n",
      " [-0.21599688]\n",
      " [-2.5523162 ]\n",
      " [-0.8651065 ]\n",
      " [ 0.11381915]]  b: [0.3824031]\n",
      "***** Learning Finished!!\n"
     ]
    }
   ],
   "source": [
    "# 학습 시작\n",
    "print('***** Start Learning!!')\n",
    "for step in range(10001):\n",
    "    optimizer.minimize(cost_func,var_list=[W,b])\n",
    "    if step % 1000 == 0:\n",
    "        print('%04d'%step,'cost:[',cost_func().numpy(),']',\n",
    "             ' W:',W.numpy(),' b:',b.numpy())\n",
    "print('***** Learning Finished!!') "
   ]
  },
  {
   "cell_type": "code",
   "execution_count": 12,
   "id": "aef99657",
   "metadata": {},
   "outputs": [
    {
     "name": "stdout",
     "output_type": "stream",
     "text": [
      "Weight: [[-0.76468706]\n",
      " [-3.331145  ]\n",
      " [ 0.24389529]\n",
      " [-0.5480679 ]\n",
      " [-0.21599688]\n",
      " [-2.5523162 ]\n",
      " [-0.8651065 ]\n",
      " [ 0.11381915]]\n",
      "Bias: [0.3824031]\n"
     ]
    }
   ],
   "source": [
    "# weight과 bias 출력\n",
    "print('Weight:',W.numpy())\n",
    "print('Bias:',b.numpy())"
   ]
  },
  {
   "cell_type": "code",
   "execution_count": 14,
   "id": "a024be50",
   "metadata": {},
   "outputs": [
    {
     "name": "stdout",
     "output_type": "stream",
     "text": [
      "Accuracy: 0.78070176\n"
     ]
    }
   ],
   "source": [
    "# 평가 : 정확도(accuracy)\n",
    "def predict(X):\n",
    "    return tf.cast(hypothesis(X) > 0.5 ,dtype=tf.float32)\n",
    "\n",
    "# 예측\n",
    "preds = predict(x_test)   \n",
    "\n",
    "# 정확도\n",
    "accuracy = tf.reduce_mean(tf.cast(tf.equal(preds,y_test),dtype=tf.float32))\n",
    "print('Accuracy:',accuracy.numpy())\n",
    "# print('Hypothesis:\\n',hypothesis(x_test).numpy())\n",
    "# print('Predict:\\n',preds.numpy())"
   ]
  },
  {
   "cell_type": "code",
   "execution_count": null,
   "id": "bcd88399",
   "metadata": {},
   "outputs": [],
   "source": []
  }
 ],
 "metadata": {
  "kernelspec": {
   "display_name": "Python 3 (ipykernel)",
   "language": "python",
   "name": "python3"
  },
  "language_info": {
   "codemirror_mode": {
    "name": "ipython",
    "version": 3
   },
   "file_extension": ".py",
   "mimetype": "text/x-python",
   "name": "python",
   "nbconvert_exporter": "python",
   "pygments_lexer": "ipython3",
   "version": "3.9.13"
  }
 },
 "nbformat": 4,
 "nbformat_minor": 5
}
