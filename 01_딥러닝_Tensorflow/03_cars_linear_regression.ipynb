{
 "cells": [
  {
   "cell_type": "code",
   "execution_count": 1,
   "id": "1003d473",
   "metadata": {},
   "outputs": [
    {
     "data": {
      "text/plain": [
       "array([[  4.,   4.,   7.,   7.,   8.,   9.,  10.,  10.,  10.,  11.,  11.,\n",
       "         12.,  12.,  12.,  12.,  13.,  13.,  13.,  13.,  14.,  14.,  14.,\n",
       "         14.,  15.,  15.,  15.,  16.,  16.,  17.,  17.,  17.,  18.,  18.,\n",
       "         18.,  18.,  19.,  19.,  19.,  20.,  20.,  20.,  20.,  20.,  22.,\n",
       "         23.,  24.,  24.,  24.,  24.,  25.],\n",
       "       [  2.,  10.,   4.,  22.,  16.,  10.,  18.,  26.,  34.,  17.,  28.,\n",
       "         14.,  20.,  24.,  28.,  26.,  34.,  34.,  46.,  26.,  36.,  60.,\n",
       "         80.,  20.,  26.,  54.,  32.,  40.,  32.,  40.,  50.,  42.,  56.,\n",
       "         76.,  84.,  36.,  46.,  68.,  32.,  48.,  52.,  56.,  64.,  66.,\n",
       "         54.,  70.,  92.,  93., 120.,  85.]])"
      ]
     },
     "execution_count": 1,
     "metadata": {},
     "output_type": "execute_result"
    }
   ],
   "source": [
    "# 03_cars_linear_regression\n",
    "# X : 'speed' (속도)  , Y : 'dist' (제동거리)\n",
    "\n",
    "import tensorflow as tf\n",
    "import numpy as np\n",
    "import matplotlib.pyplot as plt\n",
    "tf.random.set_seed(5)\n",
    "\n",
    "# 데이터 읽어보기\n",
    "xy = np.loadtxt('data-01-cars.csv',delimiter=',',skiprows=1,unpack=True)\n",
    "x_train = xy[0]\n",
    "y_train = xy[1]\n",
    "xy"
   ]
  },
  {
   "cell_type": "code",
   "execution_count": 2,
   "id": "c53d22b3",
   "metadata": {},
   "outputs": [],
   "source": [
    "# t = 10,20,30   # packing\n",
    "# type(t)\n",
    "# a,b,c = t      # unpacking"
   ]
  },
  {
   "cell_type": "code",
   "execution_count": 3,
   "id": "f80440f5",
   "metadata": {},
   "outputs": [
    {
     "name": "stdout",
     "output_type": "stream",
     "text": [
      "<tf.Variable 'weight:0' shape=(1,) dtype=float32, numpy=array([-0.18030666], dtype=float32)>\n",
      "<tf.Variable 'bias:0' shape=(1,) dtype=float32, numpy=array([0.22652863], dtype=float32)>\n"
     ]
    }
   ],
   "source": [
    "# 변수 초기화 : weight, bias\n",
    "W = tf.Variable(tf.random.normal([1]),name='weight')\n",
    "b = tf.Variable(tf.random.normal([1]),name='bias')\n",
    "print(W)\n",
    "print(b)"
   ]
  },
  {
   "cell_type": "code",
   "execution_count": 4,
   "id": "d836b547",
   "metadata": {},
   "outputs": [],
   "source": [
    "# 예측 함수(hypothesis) : H(x) = W*X + b\n",
    "def hypothesis(X):\n",
    "    return X*W + b"
   ]
  },
  {
   "cell_type": "code",
   "execution_count": 5,
   "id": "def9474e",
   "metadata": {},
   "outputs": [],
   "source": [
    "# 비용 함수 : (Hx - y)^2 의 평균\n",
    "# tf.square()      : 제곱\n",
    "# tf.reduce_mean() : 합의 평균\n",
    "def cost_func():\n",
    "    cost = tf.reduce_mean(tf.square(hypothesis(x_train) - y_train))\n",
    "    return cost"
   ]
  },
  {
   "cell_type": "code",
   "execution_count": 6,
   "id": "f455d0a6",
   "metadata": {},
   "outputs": [],
   "source": [
    "# 경사 하강법\n",
    "# optimizer = tf.compat.v1.train.GradientDescentOptimizer(learning_rate=0.01)\n",
    "# optimizer = tf.compat.v1.train.AdamOptimizer(learning_rate=0.01)\n",
    "optimizer = tf.keras.optimizers.Adam(learning_rate=0.01)"
   ]
  },
  {
   "cell_type": "code",
   "execution_count": 7,
   "id": "39432238",
   "metadata": {
    "scrolled": false
   },
   "outputs": [
    {
     "name": "stdout",
     "output_type": "stream",
     "text": [
      "***** Start Learning!!\n",
      "0000 cost:[ 2746.3662 ]  W: [-0.17030665]  b: [0.23652864]\n",
      "0100 cost:[ 1405.5791 ]  W: [0.7634749]  b: [1.1666383]\n",
      "0200 cost:[ 711.9278 ]  W: [1.5014503]  b: [1.8872597]\n",
      "0300 cost:[ 412.7359 ]  W: [2.0317748]  b: [2.3801656]\n",
      "0400 cost:[ 307.80438 ]  W: [2.3737347]  b: [2.6606307]\n",
      "0500 cost:[ 278.32727 ]  W: [2.5699966]  b: [2.7712994]\n",
      "0600 cost:[ 271.5089 ]  W: [2.6710968]  b: [2.7657683]\n",
      "0700 cost:[ 269.90894 ]  W: [2.719547]  b: [2.690255]\n",
      "0800 cost:[ 269.20804 ]  W: [2.7431982]  b: [2.575383]\n",
      "0900 cost:[ 268.595 ]  W: [2.7569902]  b: [2.437687]\n",
      "1000 cost:[ 267.95435 ]  W: [2.7676616]  b: [2.2846847]\n",
      "1100 cost:[ 267.27454 ]  W: [2.7778053]  b: [2.1193194]\n",
      "1200 cost:[ 266.55594 ]  W: [2.7882767]  b: [1.942608]\n",
      "1300 cost:[ 265.8 ]  W: [2.799316]  b: [1.7548761]\n",
      "1400 cost:[ 265.00818 ]  W: [2.8109796]  b: [1.5562365]\n",
      "1500 cost:[ 264.182 ]  W: [2.8232772]  b: [1.3467468]\n",
      "1600 cost:[ 263.32297 ]  W: [2.836209]  b: [1.1264536]\n",
      "1700 cost:[ 262.43286 ]  W: [2.8497717]  b: [0.89540887]\n",
      "1800 cost:[ 261.5134 ]  W: [2.8639617]  b: [0.6536703]\n",
      "1900 cost:[ 260.56644 ]  W: [2.8787751]  b: [0.4013121]\n",
      "2000 cost:[ 259.59402 ]  W: [2.8942063]  b: [0.13842422]\n",
      "2100 cost:[ 258.59827 ]  W: [2.9102488]  b: [-0.13488373]\n",
      "2200 cost:[ 257.58136 ]  W: [2.9268956]  b: [-0.41847917]\n",
      "2300 cost:[ 256.54578 ]  W: [2.9441345]  b: [-0.7122033]\n",
      "2400 cost:[ 255.49387 ]  W: [2.9619582]  b: [-1.015871]\n",
      "2500 cost:[ 254.42836 ]  W: [2.9803517]  b: [-1.3292665]\n",
      "2600 cost:[ 253.35187 ]  W: [2.999301]  b: [-1.6521457]\n",
      "2700 cost:[ 252.26723 ]  W: [3.0187895]  b: [-1.9842288]\n",
      "2800 cost:[ 251.17732 ]  W: [3.0387993]  b: [-2.3252022]\n",
      "2900 cost:[ 250.08519 ]  W: [3.0593088]  b: [-2.6747186]\n",
      "3000 cost:[ 248.99371 ]  W: [3.0802958]  b: [-3.0323927]\n",
      "3100 cost:[ 247.90604 ]  W: [3.1017356]  b: [-3.397808]\n",
      "3200 cost:[ 246.82513 ]  W: [3.1236017]  b: [-3.77051]\n",
      "3300 cost:[ 245.75417 ]  W: [3.1458642]  b: [-4.1500077]\n",
      "3400 cost:[ 244.69606 ]  W: [3.168493]  b: [-4.535779]\n",
      "3500 cost:[ 243.6538 ]  W: [3.1914556]  b: [-4.9272647]\n",
      "3600 cost:[ 242.63031 ]  W: [3.2147167]  b: [-5.3238807]\n",
      "3700 cost:[ 241.62833 ]  W: [3.2382398]  b: [-5.7249994]\n",
      "3800 cost:[ 240.65054 ]  W: [3.261987]  b: [-6.1299734]\n",
      "3900 cost:[ 239.6995 ]  W: [3.285918]  b: [-6.5381274]\n",
      "4000 cost:[ 238.77754 ]  W: [3.3099916]  b: [-6.948756]\n",
      "4100 cost:[ 237.88681 ]  W: [3.334165]  b: [-7.3611383]\n",
      "4200 cost:[ 237.02925 ]  W: [3.3583972]  b: [-7.774526]\n",
      "4300 cost:[ 236.20673 ]  W: [3.3826365]  b: [-8.188146]\n",
      "4400 cost:[ 235.42056 ]  W: [3.406844]  b: [-8.601223]\n",
      "4500 cost:[ 234.67216 ]  W: [3.430971]  b: [-9.012964]\n",
      "4600 cost:[ 233.96259 ]  W: [3.4549687]  b: [-9.422561]\n",
      "4700 cost:[ 233.29247 ]  W: [3.478791]  b: [-9.829197]\n",
      "4800 cost:[ 232.66238 ]  W: [3.502389]  b: [-10.232048]\n",
      "4900 cost:[ 232.07262 ]  W: [3.5257144]  b: [-10.630285]\n",
      "5000 cost:[ 231.52303 ]  W: [3.5487196]  b: [-11.023089]\n",
      "5100 cost:[ 231.01344 ]  W: [3.5713556]  b: [-11.409633]\n",
      "5200 cost:[ 230.5433 ]  W: [3.5935755]  b: [-11.789097]\n",
      "5300 cost:[ 230.11186 ]  W: [3.6153314]  b: [-12.160677]\n",
      "5400 cost:[ 229.71808 ]  W: [3.6365774]  b: [-12.523578]\n",
      "5500 cost:[ 229.36078 ]  W: [3.6572688]  b: [-12.877028]\n",
      "5600 cost:[ 229.03864 ]  W: [3.6773605]  b: [-13.220266]\n",
      "5700 cost:[ 228.74992 ]  W: [3.696811]  b: [-13.55257]\n",
      "5800 cost:[ 228.49309 ]  W: [3.7155797]  b: [-13.873248]\n",
      "5900 cost:[ 228.26617 ]  W: [3.7336292]  b: [-14.181652]\n",
      "6000 cost:[ 228.06715 ]  W: [3.7509236]  b: [-14.477174]\n",
      "6100 cost:[ 227.8941 ]  W: [3.7674313]  b: [-14.75927]\n",
      "6200 cost:[ 227.7449 ]  W: [3.7831242]  b: [-15.027448]\n",
      "6300 cost:[ 227.61737 ]  W: [3.7979772]  b: [-15.281292]\n",
      "6400 cost:[ 227.50946 ]  W: [3.8119712]  b: [-15.52046]\n",
      "6500 cost:[ 227.41902 ]  W: [3.8250911]  b: [-15.744699]\n",
      "6600 cost:[ 227.34404 ]  W: [3.8373277]  b: [-15.953842]\n",
      "6700 cost:[ 227.28262 ]  W: [3.8486772]  b: [-16.14783]\n",
      "6800 cost:[ 227.23291 ]  W: [3.8591416]  b: [-16.326693]\n",
      "6900 cost:[ 227.19316 ]  W: [3.8687296]  b: [-16.490582]\n",
      "7000 cost:[ 227.16183 ]  W: [3.8774562]  b: [-16.639748]\n",
      "7100 cost:[ 227.13747 ]  W: [3.8853426]  b: [-16.774551]\n",
      "7200 cost:[ 227.11884 ]  W: [3.8924167]  b: [-16.895477]\n",
      "7300 cost:[ 227.1048 ]  W: [3.8987117]  b: [-17.00308]\n",
      "7400 cost:[ 227.09439 ]  W: [3.904266]  b: [-17.098024]\n",
      "7500 cost:[ 227.08682 ]  W: [3.9091234]  b: [-17.181055]\n",
      "7600 cost:[ 227.08145 ]  W: [3.9133317]  b: [-17.252989]\n",
      "7700 cost:[ 227.07765 ]  W: [3.9169405]  b: [-17.314676]\n",
      "7800 cost:[ 227.0751 ]  W: [3.9200037]  b: [-17.367043]\n",
      "7900 cost:[ 227.07333 ]  W: [3.922575]  b: [-17.410995]\n",
      "8000 cost:[ 227.07222 ]  W: [3.9247072]  b: [-17.447447]\n",
      "8100 cost:[ 227.07149 ]  W: [3.9264543]  b: [-17.47731]\n",
      "8200 cost:[ 227.07106 ]  W: [3.9278672]  b: [-17.501461]\n",
      "8300 cost:[ 227.07079 ]  W: [3.9289935]  b: [-17.52072]\n",
      "8400 cost:[ 227.07065 ]  W: [3.9298797]  b: [-17.535858]\n",
      "8500 cost:[ 227.07053 ]  W: [3.9305649]  b: [-17.547577]\n",
      "8600 cost:[ 227.07051 ]  W: [3.931087]  b: [-17.5565]\n",
      "8700 cost:[ 227.07045 ]  W: [3.9314775]  b: [-17.563177]\n",
      "8800 cost:[ 227.07043 ]  W: [3.9317646]  b: [-17.568089]\n",
      "8900 cost:[ 227.07043 ]  W: [3.9319723]  b: [-17.57163]\n",
      "9000 cost:[ 227.07039 ]  W: [3.9321182]  b: [-17.574133]\n",
      "9100 cost:[ 227.0704 ]  W: [3.9322205]  b: [-17.575874]\n",
      "9200 cost:[ 227.07043 ]  W: [3.9322882]  b: [-17.57704]\n",
      "9300 cost:[ 227.07043 ]  W: [3.932334]  b: [-17.57782]\n",
      "9400 cost:[ 227.07043 ]  W: [3.932363]  b: [-17.578312]\n",
      "9500 cost:[ 227.0704 ]  W: [3.9323816]  b: [-17.578634]\n",
      "9600 cost:[ 227.07043 ]  W: [3.9323928]  b: [-17.578825]\n",
      "9700 cost:[ 227.0704 ]  W: [3.9323997]  b: [-17.578941]\n",
      "9800 cost:[ 227.0704 ]  W: [3.9323997]  b: [-17.578941]\n",
      "9900 cost:[ 227.0704 ]  W: [3.9323997]  b: [-17.578941]\n",
      "10000 cost:[ 227.07043 ]  W: [3.9324007]  b: [-17.578957]\n",
      "***** Learning Finished!!\n"
     ]
    }
   ],
   "source": [
    "# 학습 시작\n",
    "print('***** Start Learning!!')\n",
    "for step in range(10001):\n",
    "    optimizer.minimize(cost_func,var_list=[W,b])\n",
    "    if step % 100 == 0:\n",
    "        print('%04d'%step,'cost:[',cost_func().numpy(),']',\n",
    "             ' W:',W.numpy(),' b:',b.numpy())\n",
    "print('***** Learning Finished!!') "
   ]
  },
  {
   "cell_type": "code",
   "execution_count": 8,
   "id": "86f02d4c",
   "metadata": {},
   "outputs": [
    {
     "name": "stdout",
     "output_type": "stream",
     "text": [
      "Weight: [3.9324007]\n",
      "Bias: [-17.578957]\n"
     ]
    }
   ],
   "source": [
    "# weight과 bias 출력\n",
    "print('Weight:',W.numpy())\n",
    "print('Bias:',b.numpy())"
   ]
  },
  {
   "cell_type": "code",
   "execution_count": 10,
   "id": "58824799",
   "metadata": {},
   "outputs": [
    {
     "name": "stdout",
     "output_type": "stream",
     "text": [
      "***** Predict\n",
      "speed=30 , dist= [100.39307]\n",
      "speed=50 , dist= [179.04108]\n",
      "speed = [10,11,12,24,25], dist= [21.745049 25.677452 29.609852 76.79866  80.731064]\n"
     ]
    }
   ],
   "source": [
    "# 예측\n",
    "print('***** Predict')\n",
    "# 속도가 30과 50일 때 제동 거리를 예측해 보세요\n",
    "print('speed=30 , dist=', hypothesis(30).numpy())\n",
    "print('speed=50 , dist=', hypothesis(50).numpy())\n",
    "\n",
    "# X = [10,11,12,24,25] 일때\n",
    "print('speed = [10,11,12,24,25], dist=', hypothesis([10,11,12,24,25]).numpy())"
   ]
  },
  {
   "cell_type": "code",
   "execution_count": 14,
   "id": "1b46cf53",
   "metadata": {},
   "outputs": [
    {
     "data": {
      "text/plain": [
       "[<matplotlib.lines.Line2D at 0x1dd5787e730>]"
      ]
     },
     "execution_count": 14,
     "metadata": {},
     "output_type": "execute_result"
    },
    {
     "data": {
      "image/png": "[encoded data removed]",
      "text/plain": [
       "<Figure size 640x480 with 1 Axes>"
      ]
     },
     "metadata": {},
     "output_type": "display_data"
    }
   ],
   "source": [
    "# 시각화 : matplotlib 사용\n",
    "def prediction(X,W,b):\n",
    "    return X*W + b\n",
    "\n",
    "plt.plot(x_train,y_train,'ro')  # Red      , 원본 데이터\n",
    "plt.plot((0,25),(0,prediction(25,W,b)),'g' ) # Green\n",
    "# plt.plot((0,25),(prediction(0,W,b),prediction(25,W,b)),'b' ) # Blue, 예측함수"
   ]
  },
  {
   "cell_type": "code",
   "execution_count": null,
   "id": "22c68f37",
   "metadata": {},
   "outputs": [],
   "source": []
  }
 ],
 "metadata": {
  "kernelspec": {
   "display_name": "Python 3 (ipykernel)",
   "language": "python",
   "name": "python3"
  },
  "language_info": {
   "codemirror_mode": {
    "name": "ipython",
    "version": 3
   },
   "file_extension": ".py",
   "mimetype": "text/x-python",
   "name": "python",
   "nbconvert_exporter": "python",
   "pygments_lexer": "ipython3",
   "version": "3.9.16"
  }
 },
 "nbformat": 4,
 "nbformat_minor": 5
}
