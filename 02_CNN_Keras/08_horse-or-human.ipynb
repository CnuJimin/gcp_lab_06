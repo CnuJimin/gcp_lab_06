{
 "cells": [
  {
   "cell_type": "code",
   "execution_count": 1,
   "id": "40db5795",
   "metadata": {},
   "outputs": [],
   "source": [
    "# horse-or-human classification model with CNN\n",
    "# train : 1027 images [horse(500) + human(527)] , 300*300 pixels\n",
    "# validation : 256 images [horse(128) + human(128)] , 300*300 pixels"
   ]
  },
  {
   "cell_type": "code",
   "execution_count": 2,
   "id": "b7ceb789",
   "metadata": {},
   "outputs": [],
   "source": [
    "import tensorflow as tf\n",
    "import urllib\n",
    "import zipfile"
   ]
  },
  {
   "cell_type": "code",
   "execution_count": 3,
   "id": "5076ef0b",
   "metadata": {},
   "outputs": [
    {
     "data": {
      "text/plain": [
       "('validation-horse-or-human.zip', <http.client.HTTPMessage at 0x1e80769c400>)"
      ]
     },
     "execution_count": 3,
     "metadata": {},
     "output_type": "execute_result"
    }
   ],
   "source": [
    "# horse-or-human 데이터셋 다운로드\n",
    "_TRAIN_URL = \"https://storage.googleapis.com/download.tensorflow.org/data/horse-or-human.zip\"\n",
    "_TEST_URL = \"https://storage.googleapis.com/download.tensorflow.org/data/validation-horse-or-human.zip\"\n",
    "urllib.request.urlretrieve(_TRAIN_URL, 'tmp/horse-or-human.zip')\n",
    "urllib.request.urlretrieve(_TEST_URL, 'validation-horse-or-human.zip')\n",
    "\n",
    "# 새로운 데이터 다운로드 주소\n",
    "# https://storage.googleapis.com/learning-datasets/horse-or-human.zip"
   ]
  },
  {
   "cell_type": "code",
   "execution_count": 4,
   "id": "c49b846c",
   "metadata": {},
   "outputs": [],
   "source": [
    "# Colab용 : Linux/GPU사용 \n",
    "# !wget --no-check-certificate \\\n",
    "#     https://storage.googleapis.com/learning-datasets/horse-or-human.zip \\\n",
    "#     -O /tmp/horse-or-human.zip\n",
    "\n",
    "# !wget --no-check-certificate \\\n",
    "#     https://storage.googleapis.com/learning-datasets/validation-horse-or-human.zip \\\n",
    "#     -O /tmp/validation-horse-or-human.zip"
   ]
  },
  {
   "cell_type": "code",
   "execution_count": 5,
   "id": "86ca09ee",
   "metadata": {},
   "outputs": [],
   "source": [
    "# 압축해제\n",
    "local_zip = 'horse-or-human.zip'\n",
    "zip_ref = zipfile.ZipFile(local_zip,'r')\n",
    "zip_ref.extractall('tmp/horse-or-human/')\n",
    "zip_ref.close()\n",
    "\n",
    "local_zip = 'validation-horse-or-human.zip'\n",
    "zip_ref = zipfile.ZipFile(local_zip,'r')\n",
    "zip_ref.extractall('tmp/validation-horse-or-human/')\n",
    "zip_ref.close()\n",
    "\n",
    "train_dir = 'tmp/horse-or-human/'\n",
    "validation_dir = 'tmp/validation-horse-or-human/'"
   ]
  },
  {
   "cell_type": "code",
   "execution_count": 17,
   "id": "89d960f4",
   "metadata": {},
   "outputs": [
    {
     "name": "stdout",
     "output_type": "stream",
     "text": [
      "['horse01-0.png', 'horse01-1.png', 'horse01-2.png', 'horse01-3.png', 'horse01-4.png', 'horse01-5.png', 'horse01-6.png', 'horse01-7.png', 'horse01-8.png', 'horse01-9.png']\n"
     ]
    }
   ],
   "source": [
    "# 이미지 데이터 경로 설정\n",
    "import os\n",
    "\n",
    "# Directory with our training horse pictures\n",
    "train_horse_dir = os.path.join('tmp/horse-or-human/horses')\n",
    "\n",
    "# Directory with our training human pictures\n",
    "train_human_dir = os.path.join('tmp/horse-or-human/humans')\n",
    "\n",
    "# Directory with our training horse pictures\n",
    "validation_horse_dir = os.path.join('tmp/validation-horse-or-human/horses')\n",
    "\n",
    "# Directory with our training human pictures\n",
    "validation_human_dir = os.path.join('tmp/validation-horse-or-human/humans')\n",
    "\n",
    "train_horse_names = os.listdir(train_horse_dir)\n",
    "print(train_horse_names[:10])\n",
    "\n",
    "train_human_names = os.listdir(train_human_dir)\n",
    "# print(train_human_names[:10])\n",
    "\n",
    "validation_horse_names = os.listdir(validation_horse_dir)\n",
    "# print(validation_horse_names[:10])\n",
    "\n",
    "validation_human_names = os.listdir(validation_human_dir)\n",
    "# print(validation_human_names[:10])"
   ]
  },
  {
   "cell_type": "code",
   "execution_count": 20,
   "id": "0f3043b8",
   "metadata": {},
   "outputs": [
    {
     "name": "stdout",
     "output_type": "stream",
     "text": [
      " C 드라이브의 볼륨에는 이름이 없습니다.\n",
      " 볼륨 일련 번호: CE4B-4536\n",
      "\n",
      " C:\\Users\\User\\Desktop\\AI_Lab\\02_CNN_Keras\\tmp\\horse-or-human\\horses 디렉터리\n",
      "\n",
      "[.]             [..]            horse01-0.png   horse01-1.png   horse01-2.png\n",
      "horse01-3.png   horse01-4.png   horse01-5.png   horse01-6.png   horse01-7.png\n",
      "horse01-8.png   horse01-9.png   horse02-0.png   horse02-1.png   horse02-2.png\n",
      "horse02-3.png   horse02-4.png   horse02-5.png   horse02-6.png   horse02-7.png\n",
      "horse02-8.png   horse02-9.png   horse03-0.png   horse03-1.png   horse03-2.png\n",
      "horse03-3.png   horse03-4.png   horse03-5.png   horse03-6.png   horse03-7.png\n",
      "horse03-8.png   horse03-9.png   horse04-0.png   horse04-1.png   horse04-2.png\n",
      "horse04-3.png   horse04-4.png   horse04-5.png   horse04-6.png   horse04-7.png\n",
      "horse04-8.png   horse04-9.png   horse05-0.png   horse05-1.png   horse05-2.png\n",
      "horse05-3.png   horse05-4.png   horse05-5.png   horse05-6.png   horse05-7.png\n",
      "horse05-8.png   horse05-9.png   horse06-0.png   horse06-1.png   horse06-2.png\n",
      "horse06-3.png   horse06-4.png   horse06-5.png   horse06-6.png   horse06-7.png\n",
      "horse06-8.png   horse06-9.png   horse07-0.png   horse07-1.png   horse07-2.png\n",
      "horse07-3.png   horse07-4.png   horse07-5.png   horse07-6.png   horse07-7.png\n",
      "horse07-8.png   horse07-9.png   horse08-0.png   horse08-1.png   horse08-2.png\n",
      "horse08-3.png   horse08-4.png   horse08-5.png   horse08-6.png   horse08-7.png\n",
      "horse08-8.png   horse08-9.png   horse09-0.png   horse09-1.png   horse09-2.png\n",
      "horse09-3.png   horse09-4.png   horse09-5.png   horse09-6.png   horse09-7.png\n",
      "horse09-8.png   horse09-9.png   horse10-0.png   horse10-1.png   horse10-2.png\n",
      "horse10-3.png   horse10-4.png   horse10-5.png   horse10-6.png   horse10-7.png\n",
      "horse10-8.png   horse10-9.png   horse11-0.png   horse11-1.png   horse11-2.png\n",
      "horse11-3.png   horse11-4.png   horse11-5.png   horse11-6.png   horse11-7.png\n",
      "horse11-8.png   horse11-9.png   horse12-0.png   horse12-1.png   horse12-2.png\n",
      "horse12-3.png   horse12-4.png   horse12-5.png   horse12-6.png   horse12-7.png\n",
      "horse12-8.png   horse12-9.png   horse13-0.png   horse13-1.png   horse13-2.png\n",
      "horse13-3.png   horse13-4.png   horse13-5.png   horse13-6.png   horse13-7.png\n",
      "horse13-8.png   horse13-9.png   horse14-0.png   horse14-1.png   horse14-2.png\n",
      "horse14-3.png   horse14-4.png   horse14-5.png   horse14-6.png   horse14-7.png\n",
      "horse14-8.png   horse14-9.png   horse15-0.png   horse15-1.png   horse15-2.png\n",
      "horse15-3.png   horse15-4.png   horse15-5.png   horse15-6.png   horse15-7.png\n",
      "horse15-8.png   horse15-9.png   horse16-0.png   horse16-1.png   horse16-2.png\n",
      "horse16-3.png   horse16-4.png   horse16-5.png   horse16-6.png   horse16-7.png\n",
      "horse16-8.png   horse16-9.png   horse17-0.png   horse17-1.png   horse17-2.png\n",
      "horse17-3.png   horse17-4.png   horse17-5.png   horse17-6.png   horse17-7.png\n",
      "horse17-8.png   horse17-9.png   horse18-0.png   horse18-1.png   horse18-2.png\n",
      "horse18-3.png   horse18-4.png   horse18-5.png   horse18-6.png   horse18-7.png\n",
      "horse18-8.png   horse18-9.png   horse19-0.png   horse19-1.png   horse19-2.png\n",
      "horse19-3.png   horse19-4.png   horse19-5.png   horse19-6.png   horse19-7.png\n",
      "horse19-8.png   horse19-9.png   horse20-0.png   horse20-1.png   horse20-2.png\n",
      "horse20-3.png   horse20-4.png   horse20-5.png   horse20-6.png   horse20-7.png\n",
      "horse20-8.png   horse20-9.png   horse21-0.png   horse21-1.png   horse21-2.png\n",
      "horse21-3.png   horse21-4.png   horse21-5.png   horse21-6.png   horse21-7.png\n",
      "horse21-8.png   horse21-9.png   horse22-0.png   horse22-1.png   horse22-2.png\n",
      "horse22-3.png   horse22-4.png   horse22-5.png   horse22-6.png   horse22-7.png\n",
      "horse22-8.png   horse22-9.png   horse23-0.png   horse23-1.png   horse23-2.png\n",
      "horse23-3.png   horse23-4.png   horse23-5.png   horse23-6.png   horse23-7.png\n",
      "horse23-8.png   horse23-9.png   horse24-0.png   horse24-1.png   horse24-2.png\n",
      "horse24-3.png   horse24-4.png   horse24-5.png   horse24-6.png   horse24-7.png\n",
      "horse24-8.png   horse24-9.png   horse25-0.png   horse25-1.png   horse25-2.png\n",
      "horse25-3.png   horse25-4.png   horse25-5.png   horse25-6.png   horse25-7.png\n",
      "horse25-8.png   horse25-9.png   horse26-0.png   horse26-1.png   horse26-2.png\n",
      "horse26-3.png   horse26-4.png   horse26-5.png   horse26-6.png   horse26-7.png\n",
      "horse26-8.png   horse26-9.png   horse27-0.png   horse27-1.png   horse27-2.png\n",
      "horse27-3.png   horse27-4.png   horse27-5.png   horse27-6.png   horse27-7.png\n",
      "horse27-8.png   horse27-9.png   horse28-0.png   horse28-1.png   horse28-2.png\n",
      "horse28-3.png   horse28-4.png   horse28-5.png   horse28-6.png   horse28-7.png\n",
      "horse28-8.png   horse28-9.png   horse29-0.png   horse29-1.png   horse29-2.png\n",
      "horse29-3.png   horse29-4.png   horse29-5.png   horse29-6.png   horse29-7.png\n",
      "horse29-8.png   horse29-9.png   horse30-0.png   horse30-1.png   horse30-2.png\n",
      "horse30-3.png   horse30-4.png   horse30-5.png   horse30-6.png   horse30-7.png\n",
      "horse30-8.png   horse30-9.png   horse31-0.png   horse31-1.png   horse31-2.png\n",
      "horse31-3.png   horse31-4.png   horse31-5.png   horse31-6.png   horse31-7.png\n",
      "horse31-8.png   horse31-9.png   horse32-0.png   horse32-1.png   horse32-2.png\n",
      "horse32-3.png   horse32-4.png   horse32-5.png   horse32-6.png   horse32-7.png\n",
      "horse32-8.png   horse32-9.png   horse33-0.png   horse33-1.png   horse33-2.png\n",
      "horse33-3.png   horse33-4.png   horse33-5.png   horse33-6.png   horse33-7.png\n",
      "horse33-8.png   horse33-9.png   horse34-0.png   horse34-1.png   horse34-2.png\n",
      "horse34-3.png   horse34-4.png   horse34-5.png   horse34-6.png   horse34-7.png\n",
      "horse34-8.png   horse34-9.png   horse35-0.png   horse35-1.png   horse35-2.png\n",
      "horse35-3.png   horse35-4.png   horse35-5.png   horse35-6.png   horse35-7.png\n",
      "horse35-8.png   horse35-9.png   horse36-0.png   horse36-1.png   horse36-2.png\n",
      "horse36-3.png   horse36-4.png   horse36-5.png   horse36-6.png   horse36-7.png\n",
      "horse36-8.png   horse36-9.png   horse37-0.png   horse37-1.png   horse37-2.png\n",
      "horse37-3.png   horse37-4.png   horse37-5.png   horse37-6.png   horse37-7.png\n",
      "horse37-8.png   horse37-9.png   horse38-0.png   horse38-1.png   horse38-2.png\n",
      "horse38-3.png   horse38-4.png   horse38-5.png   horse38-6.png   horse38-7.png\n",
      "horse38-8.png   horse38-9.png   horse39-0.png   horse39-1.png   horse39-2.png\n",
      "horse39-3.png   horse39-4.png   horse39-5.png   horse39-6.png   horse39-7.png\n",
      "horse39-8.png   horse39-9.png   horse40-0.png   horse40-1.png   horse40-2.png\n",
      "horse40-3.png   horse40-4.png   horse40-5.png   horse40-6.png   horse40-7.png\n",
      "horse40-8.png   horse40-9.png   horse41-0.png   horse41-1.png   horse41-2.png\n",
      "horse41-3.png   horse41-4.png   horse41-5.png   horse41-6.png   horse41-7.png\n",
      "horse41-8.png   horse41-9.png   horse42-0.png   horse42-1.png   horse42-2.png\n",
      "horse42-3.png   horse42-4.png   horse42-5.png   horse42-6.png   horse42-7.png\n",
      "horse42-8.png   horse42-9.png   horse43-0.png   horse43-1.png   horse43-2.png\n",
      "horse43-3.png   horse43-4.png   horse43-5.png   horse43-6.png   horse43-7.png\n",
      "horse43-8.png   horse43-9.png   horse44-0.png   horse44-1.png   horse44-2.png\n",
      "horse44-3.png   horse44-4.png   horse44-5.png   horse44-6.png   horse44-7.png\n",
      "horse44-8.png   horse44-9.png   horse45-0.png   horse45-1.png   horse45-2.png\n",
      "horse45-3.png   horse45-4.png   horse45-5.png   horse45-6.png   horse45-7.png\n",
      "horse45-8.png   horse45-9.png   horse46-0.png   horse46-1.png   horse46-2.png\n",
      "horse46-3.png   horse46-4.png   horse46-5.png   horse46-6.png   horse46-7.png\n",
      "horse46-8.png   horse46-9.png   horse47-0.png   horse47-1.png   horse47-2.png\n",
      "horse47-3.png   horse47-4.png   horse47-5.png   horse47-6.png   horse47-7.png\n",
      "horse47-8.png   horse47-9.png   horse48-0.png   horse48-1.png   horse48-2.png\n",
      "horse48-3.png   horse48-4.png   horse48-5.png   horse48-6.png   horse48-7.png\n",
      "horse48-8.png   horse48-9.png   horse49-0.png   horse49-1.png   horse49-2.png\n",
      "horse49-3.png   horse49-4.png   horse49-5.png   horse49-6.png   horse49-7.png\n",
      "horse49-8.png   horse49-9.png   horse50-0.png   horse50-1.png   horse50-2.png\n",
      "horse50-3.png   horse50-4.png   horse50-5.png   horse50-6.png   horse50-7.png\n",
      "horse50-8.png   horse50-9.png   \n",
      "             500개 파일          75,896,123 바이트\n",
      "               2개 디렉터리  379,955,761,152 바이트 남음\n"
     ]
    }
   ],
   "source": [
    "! dir tmp\\horse-or-human\\horses  /w"
   ]
  },
  {
   "cell_type": "code",
   "execution_count": null,
   "id": "38e73a28",
   "metadata": {},
   "outputs": [],
   "source": []
  },
  {
   "cell_type": "code",
   "execution_count": null,
   "id": "63b9cd1d",
   "metadata": {},
   "outputs": [],
   "source": []
  }
 ],
 "metadata": {
  "kernelspec": {
   "display_name": "Python 3 (ipykernel)",
   "language": "python",
   "name": "python3"
  },
  "language_info": {
   "codemirror_mode": {
    "name": "ipython",
    "version": 3
   },
   "file_extension": ".py",
   "mimetype": "text/x-python",
   "name": "python",
   "nbconvert_exporter": "python",
   "pygments_lexer": "ipython3",
   "version": "3.9.13"
  }
 },
 "nbformat": 4,
 "nbformat_minor": 5
}
