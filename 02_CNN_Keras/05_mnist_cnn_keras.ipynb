{
 "cells": [
  {
   "cell_type": "code",
   "execution_count": 1,
   "id": "82618646",
   "metadata": {},
   "outputs": [
    {
     "name": "stdout",
     "output_type": "stream",
     "text": [
      "2.10.0\n",
      "2.10.0\n"
     ]
    }
   ],
   "source": [
    "# mnist_cnn_keras\n",
    "import tensorflow as tf\n",
    "import numpy as np\n",
    "import matplotlib.pyplot as plt\n",
    "\n",
    "print(tf.__version__)\n",
    "print(tf.keras.__version__)"
   ]
  },
  {
   "cell_type": "code",
   "execution_count": 10,
   "id": "2b579388",
   "metadata": {},
   "outputs": [
    {
     "name": "stdout",
     "output_type": "stream",
     "text": [
      "(60000, 28, 28) <dtype: 'float32'>\n",
      "(10000, 28, 28) <dtype: 'float32'>\n"
     ]
    }
   ],
   "source": [
    "# mnist 데이터 가져오기\n",
    "mnist = tf.keras.datasets.mnist\n",
    "(x_train,y_train),(x_test,y_test) = mnist.load_data()\n",
    "\n",
    "# X값의 타입을 float형으로 변환\n",
    "x_train = tf.cast(x_train,dtype=tf.float32)\n",
    "x_test = tf.cast(x_test,dtype=tf.float32)\n",
    "\n",
    "print(x_train.shape,x_train.dtype)\n",
    "print(x_test.shape,x_test.dtype)\n",
    "# print(y_train)"
   ]
  },
  {
   "cell_type": "code",
   "execution_count": 6,
   "id": "4a4ab98c",
   "metadata": {},
   "outputs": [
    {
     "name": "stdout",
     "output_type": "stream",
     "text": [
      "(60000, 784) <dtype: 'float32'>\n",
      "(10000, 784) <dtype: 'float32'>\n",
      "Model: \"sequential_1\"\n",
      "_________________________________________________________________\n",
      " Layer (type)                Output Shape              Param #   \n",
      "=================================================================\n",
      " dense_4 (Dense)             (None, 32)                25120     \n",
      "                                                                 \n",
      " dense_5 (Dense)             (None, 32)                1056      \n",
      "                                                                 \n",
      " dense_6 (Dense)             (None, 32)                1056      \n",
      "                                                                 \n",
      " dense_7 (Dense)             (None, 10)                330       \n",
      "                                                                 \n",
      "=================================================================\n",
      "Total params: 27,562\n",
      "Trainable params: 27,562\n",
      "Non-trainable params: 0\n",
      "_________________________________________________________________\n"
     ]
    }
   ],
   "source": [
    "## CNN 사용 안한 모델\n",
    "x_train = tf.reshape(x_train,[-1,28*28])  # 2차원\n",
    "x_test = tf.reshape(x_test,[-1,28*28])    # 2차원\n",
    "print(x_train.shape,x_train.dtype)\n",
    "print(x_test.shape,x_test.dtype)\n",
    "\n",
    "model = tf.keras.Sequential([\n",
    "    tf.keras.layers.Dense(units=32,activation='relu',input_shape=(784,)),\n",
    "    tf.keras.layers.Dense(units=32,activation='relu'),\n",
    "    tf.keras.layers.Dense(units=32,activation='relu'),\n",
    "    tf.keras.layers.Dense(units=10,activation='softmax'),\n",
    "])\n",
    "\n",
    "model.compile(optimizer=tf.keras.optimizers.Adam(learning_rate=0.001),\n",
    "             loss='sparse_categorical_crossentropy',\n",
    "             metrics=['accuracy'])\n",
    "\n",
    "model.summary()"
   ]
  },
  {
   "cell_type": "code",
   "execution_count": 7,
   "id": "70989ebc",
   "metadata": {
    "scrolled": true
   },
   "outputs": [
    {
     "name": "stdout",
     "output_type": "stream",
     "text": [
      "Epoch 1/100\n",
      "1875/1875 [==============================] - 2s 1ms/step - loss: 1.1872 - accuracy: 0.7780\n",
      "Epoch 2/100\n",
      "1875/1875 [==============================] - 2s 1ms/step - loss: 0.3482 - accuracy: 0.9031\n",
      "Epoch 3/100\n",
      "1875/1875 [==============================] - 2s 1ms/step - loss: 0.2700 - accuracy: 0.9237\n",
      "Epoch 4/100\n",
      "1875/1875 [==============================] - 2s 1ms/step - loss: 0.2336 - accuracy: 0.9331\n",
      "Epoch 5/100\n",
      "1875/1875 [==============================] - 2s 1ms/step - loss: 0.2031 - accuracy: 0.9412\n",
      "Epoch 6/100\n",
      "1875/1875 [==============================] - 2s 972us/step - loss: 0.1856 - accuracy: 0.9462\n",
      "Epoch 7/100\n",
      "1875/1875 [==============================] - 2s 1ms/step - loss: 0.1624 - accuracy: 0.9526\n",
      "Epoch 8/100\n",
      "1875/1875 [==============================] - 2s 1ms/step - loss: 0.1529 - accuracy: 0.9557\n",
      "Epoch 9/100\n",
      "1875/1875 [==============================] - 2s 1ms/step - loss: 0.1423 - accuracy: 0.9581\n",
      "Epoch 10/100\n",
      "1875/1875 [==============================] - 2s 1ms/step - loss: 0.1332 - accuracy: 0.9601\n",
      "Epoch 11/100\n",
      "1875/1875 [==============================] - 2s 1ms/step - loss: 0.1280 - accuracy: 0.9616\n",
      "Epoch 12/100\n",
      "1875/1875 [==============================] - 2s 1ms/step - loss: 0.1197 - accuracy: 0.9637\n",
      "Epoch 13/100\n",
      "1875/1875 [==============================] - 2s 1ms/step - loss: 0.1134 - accuracy: 0.9662\n",
      "Epoch 14/100\n",
      "1875/1875 [==============================] - 2s 1ms/step - loss: 0.1096 - accuracy: 0.9673\n",
      "Epoch 15/100\n",
      "1875/1875 [==============================] - 2s 1ms/step - loss: 0.1068 - accuracy: 0.9680\n",
      "Epoch 16/100\n",
      "1875/1875 [==============================] - 2s 1ms/step - loss: 0.1029 - accuracy: 0.9688\n",
      "Epoch 17/100\n",
      "1875/1875 [==============================] - 2s 1ms/step - loss: 0.0999 - accuracy: 0.9698\n",
      "Epoch 18/100\n",
      "1875/1875 [==============================] - 2s 1ms/step - loss: 0.0946 - accuracy: 0.9712\n",
      "Epoch 19/100\n",
      "1875/1875 [==============================] - 2s 1ms/step - loss: 0.0913 - accuracy: 0.9726\n",
      "Epoch 20/100\n",
      "1875/1875 [==============================] - 2s 1ms/step - loss: 0.0917 - accuracy: 0.9732\n",
      "Epoch 21/100\n",
      "1875/1875 [==============================] - 2s 1ms/step - loss: 0.0869 - accuracy: 0.9732\n",
      "Epoch 22/100\n",
      "1875/1875 [==============================] - 2s 1ms/step - loss: 0.0891 - accuracy: 0.9737\n",
      "Epoch 23/100\n",
      "1875/1875 [==============================] - 2s 1ms/step - loss: 0.0847 - accuracy: 0.9743\n",
      "Epoch 24/100\n",
      "1875/1875 [==============================] - 2s 1ms/step - loss: 0.0826 - accuracy: 0.9750\n",
      "Epoch 25/100\n",
      "1875/1875 [==============================] - 2s 1ms/step - loss: 0.0819 - accuracy: 0.9754\n",
      "Epoch 26/100\n",
      "1875/1875 [==============================] - 2s 1ms/step - loss: 0.0806 - accuracy: 0.9761\n",
      "Epoch 27/100\n",
      "1875/1875 [==============================] - 2s 1ms/step - loss: 0.0786 - accuracy: 0.9772\n",
      "Epoch 28/100\n",
      "1875/1875 [==============================] - 2s 1ms/step - loss: 0.0779 - accuracy: 0.9765\n",
      "Epoch 29/100\n",
      "1875/1875 [==============================] - 2s 1ms/step - loss: 0.0758 - accuracy: 0.9770\n",
      "Epoch 30/100\n",
      "1875/1875 [==============================] - 2s 969us/step - loss: 0.0731 - accuracy: 0.9780\n",
      "Epoch 31/100\n",
      "1875/1875 [==============================] - 2s 1ms/step - loss: 0.0702 - accuracy: 0.9784\n",
      "Epoch 32/100\n",
      "1875/1875 [==============================] - 2s 1ms/step - loss: 0.0753 - accuracy: 0.9775\n",
      "Epoch 33/100\n",
      "1875/1875 [==============================] - 2s 1ms/step - loss: 0.0680 - accuracy: 0.9794\n",
      "Epoch 34/100\n",
      "1875/1875 [==============================] - 2s 1ms/step - loss: 0.0724 - accuracy: 0.9782\n",
      "Epoch 35/100\n",
      "1875/1875 [==============================] - 2s 1ms/step - loss: 0.0661 - accuracy: 0.9801\n",
      "Epoch 36/100\n",
      "1875/1875 [==============================] - 2s 1ms/step - loss: 0.0657 - accuracy: 0.9803\n",
      "Epoch 37/100\n",
      "1875/1875 [==============================] - 2s 1ms/step - loss: 0.0668 - accuracy: 0.9801\n",
      "Epoch 38/100\n",
      "1875/1875 [==============================] - 2s 1ms/step - loss: 0.0658 - accuracy: 0.9808\n",
      "Epoch 39/100\n",
      "1875/1875 [==============================] - 2s 1ms/step - loss: 0.0689 - accuracy: 0.9801\n",
      "Epoch 40/100\n",
      "1875/1875 [==============================] - 2s 1ms/step - loss: 0.0655 - accuracy: 0.9807\n",
      "Epoch 41/100\n",
      "1875/1875 [==============================] - 2s 1ms/step - loss: 0.0631 - accuracy: 0.9814\n",
      "Epoch 42/100\n",
      "1875/1875 [==============================] - 2s 1ms/step - loss: 0.0641 - accuracy: 0.9810\n",
      "Epoch 43/100\n",
      "1875/1875 [==============================] - 2s 1ms/step - loss: 0.0613 - accuracy: 0.9820\n",
      "Epoch 44/100\n",
      "1875/1875 [==============================] - 2s 1ms/step - loss: 0.0607 - accuracy: 0.9829\n",
      "Epoch 45/100\n",
      "1875/1875 [==============================] - 2s 994us/step - loss: 0.0607 - accuracy: 0.9821\n",
      "Epoch 46/100\n",
      "1875/1875 [==============================] - 2s 1ms/step - loss: 0.0576 - accuracy: 0.9828\n",
      "Epoch 47/100\n",
      "1875/1875 [==============================] - 2s 1ms/step - loss: 0.0601 - accuracy: 0.9819\n",
      "Epoch 48/100\n",
      "1875/1875 [==============================] - 2s 1ms/step - loss: 0.0614 - accuracy: 0.9827\n",
      "Epoch 49/100\n",
      "1875/1875 [==============================] - 2s 1ms/step - loss: 0.0580 - accuracy: 0.9828\n",
      "Epoch 50/100\n",
      "1875/1875 [==============================] - 2s 1ms/step - loss: 0.0564 - accuracy: 0.9838\n",
      "Epoch 51/100\n",
      "1875/1875 [==============================] - 2s 1ms/step - loss: 0.0588 - accuracy: 0.9836\n",
      "Epoch 52/100\n",
      "1875/1875 [==============================] - 2s 1ms/step - loss: 0.0593 - accuracy: 0.9835\n",
      "Epoch 53/100\n",
      "1875/1875 [==============================] - 2s 1ms/step - loss: 0.0568 - accuracy: 0.9840\n",
      "Epoch 54/100\n",
      "1875/1875 [==============================] - 2s 1ms/step - loss: 0.0545 - accuracy: 0.9836\n",
      "Epoch 55/100\n",
      "1875/1875 [==============================] - 2s 1ms/step - loss: 0.0552 - accuracy: 0.9845\n",
      "Epoch 56/100\n",
      "1875/1875 [==============================] - 2s 1ms/step - loss: 0.0552 - accuracy: 0.9844\n",
      "Epoch 57/100\n",
      "1875/1875 [==============================] - 2s 1ms/step - loss: 0.0516 - accuracy: 0.9852\n",
      "Epoch 58/100\n",
      "1875/1875 [==============================] - 2s 1ms/step - loss: 0.0515 - accuracy: 0.9846\n",
      "Epoch 59/100\n",
      "1875/1875 [==============================] - 2s 1ms/step - loss: 0.0538 - accuracy: 0.9845\n",
      "Epoch 60/100\n",
      "1875/1875 [==============================] - 2s 985us/step - loss: 0.0552 - accuracy: 0.9851\n",
      "Epoch 61/100\n",
      "1875/1875 [==============================] - 2s 1ms/step - loss: 0.0549 - accuracy: 0.9849\n",
      "Epoch 62/100\n",
      "1875/1875 [==============================] - 2s 1ms/step - loss: 0.0612 - accuracy: 0.9837\n",
      "Epoch 63/100\n",
      "1875/1875 [==============================] - 2s 1ms/step - loss: 0.0518 - accuracy: 0.9858\n",
      "Epoch 64/100\n",
      "1875/1875 [==============================] - 2s 1ms/step - loss: 0.0510 - accuracy: 0.9858\n",
      "Epoch 65/100\n",
      "1875/1875 [==============================] - 2s 1ms/step - loss: 0.0509 - accuracy: 0.9858\n",
      "Epoch 66/100\n",
      "1875/1875 [==============================] - 2s 1ms/step - loss: 0.0542 - accuracy: 0.9847\n",
      "Epoch 67/100\n",
      "1875/1875 [==============================] - 2s 1ms/step - loss: 0.0491 - accuracy: 0.9859\n",
      "Epoch 68/100\n",
      "1875/1875 [==============================] - 2s 1ms/step - loss: 0.0515 - accuracy: 0.9858\n",
      "Epoch 69/100\n",
      "1875/1875 [==============================] - 2s 1ms/step - loss: 0.0489 - accuracy: 0.9861\n",
      "Epoch 70/100\n",
      "1875/1875 [==============================] - 2s 1ms/step - loss: 0.0528 - accuracy: 0.9850\n",
      "Epoch 71/100\n",
      "1875/1875 [==============================] - 2s 1ms/step - loss: 0.0500 - accuracy: 0.9861\n",
      "Epoch 72/100\n",
      "1875/1875 [==============================] - 2s 1ms/step - loss: 0.0606 - accuracy: 0.9851\n",
      "Epoch 73/100\n",
      "1875/1875 [==============================] - 2s 1ms/step - loss: 0.0463 - accuracy: 0.9870\n",
      "Epoch 74/100\n",
      "1875/1875 [==============================] - 2s 1ms/step - loss: 0.0494 - accuracy: 0.9864\n",
      "Epoch 75/100\n",
      "1875/1875 [==============================] - 2s 1ms/step - loss: 0.0481 - accuracy: 0.9869\n",
      "Epoch 76/100\n",
      "1875/1875 [==============================] - 2s 1ms/step - loss: 0.0447 - accuracy: 0.9875\n",
      "Epoch 77/100\n",
      "1875/1875 [==============================] - 2s 1ms/step - loss: 0.0492 - accuracy: 0.9864\n",
      "Epoch 78/100\n",
      "1875/1875 [==============================] - 2s 1ms/step - loss: 0.0466 - accuracy: 0.9872\n",
      "Epoch 79/100\n"
     ]
    },
    {
     "name": "stdout",
     "output_type": "stream",
     "text": [
      "1875/1875 [==============================] - 2s 1ms/step - loss: 0.0512 - accuracy: 0.9866\n",
      "Epoch 80/100\n",
      "1875/1875 [==============================] - 2s 1ms/step - loss: 0.0471 - accuracy: 0.9865\n",
      "Epoch 81/100\n",
      "1875/1875 [==============================] - 2s 987us/step - loss: 0.0428 - accuracy: 0.9879\n",
      "Epoch 82/100\n",
      "1875/1875 [==============================] - 2s 1ms/step - loss: 0.0524 - accuracy: 0.9861\n",
      "Epoch 83/100\n",
      "1875/1875 [==============================] - 2s 997us/step - loss: 0.0486 - accuracy: 0.9876\n",
      "Epoch 84/100\n",
      "1875/1875 [==============================] - 2s 1ms/step - loss: 0.0498 - accuracy: 0.9872\n",
      "Epoch 85/100\n",
      "1875/1875 [==============================] - 2s 1ms/step - loss: 0.0496 - accuracy: 0.9869\n",
      "Epoch 86/100\n",
      "1875/1875 [==============================] - 2s 1ms/step - loss: 0.0430 - accuracy: 0.9884\n",
      "Epoch 87/100\n",
      "1875/1875 [==============================] - 2s 1ms/step - loss: 0.0469 - accuracy: 0.9871\n",
      "Epoch 88/100\n",
      "1875/1875 [==============================] - 2s 1ms/step - loss: 0.0444 - accuracy: 0.9875\n",
      "Epoch 89/100\n",
      "1875/1875 [==============================] - 2s 1ms/step - loss: 0.0454 - accuracy: 0.9876\n",
      "Epoch 90/100\n",
      "1875/1875 [==============================] - 2s 998us/step - loss: 0.0452 - accuracy: 0.9882\n",
      "Epoch 91/100\n",
      "1875/1875 [==============================] - 2s 1ms/step - loss: 0.0450 - accuracy: 0.9883\n",
      "Epoch 92/100\n",
      "1875/1875 [==============================] - 2s 994us/step - loss: 0.0408 - accuracy: 0.9890\n",
      "Epoch 93/100\n",
      "1875/1875 [==============================] - 2s 1ms/step - loss: 0.0464 - accuracy: 0.9876\n",
      "Epoch 94/100\n",
      "1875/1875 [==============================] - 2s 1ms/step - loss: 0.0538 - accuracy: 0.9867\n",
      "Epoch 95/100\n",
      "1875/1875 [==============================] - 2s 1ms/step - loss: 0.0412 - accuracy: 0.9888\n",
      "Epoch 96/100\n",
      "1875/1875 [==============================] - 2s 1ms/step - loss: 0.0434 - accuracy: 0.9884\n",
      "Epoch 97/100\n",
      "1875/1875 [==============================] - 2s 1ms/step - loss: 0.0440 - accuracy: 0.9879\n",
      "Epoch 98/100\n",
      "1875/1875 [==============================] - 2s 1ms/step - loss: 0.0425 - accuracy: 0.9886\n",
      "Epoch 99/100\n",
      "1875/1875 [==============================] - 2s 1ms/step - loss: 0.0413 - accuracy: 0.9892\n",
      "Epoch 100/100\n",
      "1875/1875 [==============================] - 2s 1ms/step - loss: 0.0435 - accuracy: 0.9886\n"
     ]
    },
    {
     "data": {
      "text/plain": [
       "<keras.callbacks.History at 0x196fe265eb0>"
      ]
     },
     "execution_count": 7,
     "metadata": {},
     "output_type": "execute_result"
    }
   ],
   "source": [
    "# 학습 : GPU 약 3분소요\n",
    "model.fit(x_train,y_train,batch_size=32,epochs=100,verbose=1)\n",
    "# # 1 epoch : 1875회 학습  (60000/32=1875)"
   ]
  },
  {
   "cell_type": "code",
   "execution_count": 8,
   "id": "046531be",
   "metadata": {},
   "outputs": [
    {
     "name": "stdout",
     "output_type": "stream",
     "text": [
      "313/313 [==============================] - 0s 879us/step - loss: 0.3668 - accuracy: 0.9606\n"
     ]
    },
    {
     "data": {
      "text/plain": [
       "[0.36681219935417175, 0.9606000185012817]"
      ]
     },
     "execution_count": 8,
     "metadata": {},
     "output_type": "execute_result"
    }
   ],
   "source": [
    "# 평가\n",
    "model.evaluate(x_test,y_test)"
   ]
  },
  {
   "cell_type": "code",
   "execution_count": 40,
   "id": "f2251348",
   "metadata": {
    "scrolled": true
   },
   "outputs": [
    {
     "name": "stdout",
     "output_type": "stream",
     "text": [
      "(60000, 28, 28, 1) <dtype: 'float32'>\n",
      "(10000, 28, 28, 1) <dtype: 'float32'>\n",
      "Model: \"sequential_13\"\n",
      "_________________________________________________________________\n",
      " Layer (type)                Output Shape              Param #   \n",
      "=================================================================\n",
      " conv2d_27 (Conv2D)          (None, 28, 28, 32)        320       \n",
      "                                                                 \n",
      " max_pooling2d_23 (MaxPoolin  (None, 14, 14, 32)       0         \n",
      " g2D)                                                            \n",
      "                                                                 \n",
      " conv2d_28 (Conv2D)          (None, 14, 14, 64)        18496     \n",
      "                                                                 \n",
      " max_pooling2d_24 (MaxPoolin  (None, 7, 7, 64)         0         \n",
      " g2D)                                                            \n",
      "                                                                 \n",
      " conv2d_29 (Conv2D)          (None, 7, 7, 128)         73856     \n",
      "                                                                 \n",
      " max_pooling2d_25 (MaxPoolin  (None, 4, 4, 128)        0         \n",
      " g2D)                                                            \n",
      "                                                                 \n",
      " flatten_6 (Flatten)         (None, 2048)              0         \n",
      "                                                                 \n",
      " dense_18 (Dense)            (None, 512)               1049088   \n",
      "                                                                 \n",
      " dense_19 (Dense)            (None, 10)                5130      \n",
      "                                                                 \n",
      "=================================================================\n",
      "Total params: 1,146,890\n",
      "Trainable params: 1,146,890\n",
      "Non-trainable params: 0\n",
      "_________________________________________________________________\n"
     ]
    }
   ],
   "source": [
    "# CNN을 사용한 모델 구현\n",
    "x_train = tf.reshape(x_train,[-1,28,28,1])  # 4차원\n",
    "x_test = tf.reshape(x_test,[-1,28,28,1])    # 4차원\n",
    "print(x_train.shape,x_train.dtype)\n",
    "print(x_test.shape,x_test.dtype)\n",
    "\n",
    "model = tf.keras.Sequential([\n",
    "    tf.keras.layers.Conv2D(filters=32,kernel_size=(3,3),strides=(1,1),padding='same',\n",
    "                           activation='relu',input_shape=(28, 28, 1)),\n",
    "    tf.keras.layers.MaxPool2D(pool_size=(2,2),strides=(2,2),padding='same'),\n",
    "\n",
    "    tf.keras.layers.Conv2D(filters=64,kernel_size=(3,3),strides=(1,1),padding='same',\n",
    "                           activation='relu'),\n",
    "    tf.keras.layers.MaxPool2D(pool_size=(2,2),strides=(2,2),padding='same'),\n",
    "\n",
    "    tf.keras.layers.Conv2D(filters=128,kernel_size=(3,3),strides=(1,1),padding='same',\n",
    "                           activation='relu'),\n",
    "    tf.keras.layers.MaxPool2D(pool_size=(2,2),strides=(2,2),padding='same'),\n",
    "    \n",
    "    tf.keras.layers.Flatten(),\n",
    "    tf.keras.layers.Dense(units=512,activation='relu'),\n",
    "    tf.keras.layers.Dense(units=10,activation='softmax'),\n",
    "])\n",
    "\n",
    "model.compile(optimizer=tf.keras.optimizers.Adam(learning_rate=0.01),\n",
    "             loss='sparse_categorical_crossentropy',\n",
    "             metrics=['accuracy'])\n",
    "model.summary()\n",
    "\n",
    "# https://yeomko.tistory.com/40\n",
    "# Xavier Glorot Initialization : W(Weight) 값을 fan_in,fan_out를 사용하여 초기화하여 정확도 향상\n",
    "\n",
    "# loss 종류\n",
    "# mean_squared_error : 평균제곱 오차\n",
    "# binary_crossentropy : 이진분류 오차\n",
    "# categorical_crossentropy : 다중 분류 오차. one-hot encoding 클래스, [0.2, 0.3, 0.5] 와 같은 출력값과 실측값의 오차값을 계산한다.\n",
    "# sparse_categorical_crossentropy: 다중 분류 오차. 위와 동일하지만 , integer type 클래스라는 것이 다르다."
   ]
  },
  {
   "cell_type": "code",
   "execution_count": 41,
   "id": "1aa059d5",
   "metadata": {
    "collapsed": true
   },
   "outputs": [
    {
     "name": "stdout",
     "output_type": "stream",
     "text": [
      "Epoch 1/25\n",
      "1407/1407 [==============================] - 4s 3ms/step - loss: 0.7697 - accuracy: 0.8951 - val_loss: 0.6228 - val_accuracy: 0.8840\n",
      "Epoch 2/25\n",
      "1407/1407 [==============================] - 4s 3ms/step - loss: 0.2480 - accuracy: 0.9298 - val_loss: 0.2490 - val_accuracy: 0.9330\n",
      "Epoch 3/25\n",
      "1407/1407 [==============================] - 3s 2ms/step - loss: 0.2779 - accuracy: 0.9260 - val_loss: 0.2439 - val_accuracy: 0.9361\n",
      "Epoch 4/25\n",
      "1407/1407 [==============================] - 3s 2ms/step - loss: 0.2693 - accuracy: 0.9279 - val_loss: 0.2425 - val_accuracy: 0.9354\n",
      "Epoch 5/25\n",
      "1407/1407 [==============================] - 3s 2ms/step - loss: 0.2651 - accuracy: 0.9302 - val_loss: 0.3893 - val_accuracy: 0.9147\n",
      "Epoch 6/25\n",
      "1407/1407 [==============================] - 3s 2ms/step - loss: 0.2711 - accuracy: 0.9303 - val_loss: 0.2633 - val_accuracy: 0.9319\n",
      "Epoch 7/25\n",
      "1407/1407 [==============================] - 3s 2ms/step - loss: 0.2696 - accuracy: 0.9308 - val_loss: 0.2512 - val_accuracy: 0.9349\n",
      "Epoch 8/25\n",
      "1407/1407 [==============================] - 3s 2ms/step - loss: 0.2566 - accuracy: 0.9367 - val_loss: 0.2440 - val_accuracy: 0.9431\n",
      "Epoch 9/25\n",
      "1407/1407 [==============================] - 3s 2ms/step - loss: 0.2602 - accuracy: 0.9363 - val_loss: 0.3499 - val_accuracy: 0.9274\n",
      "Epoch 10/25\n",
      "1407/1407 [==============================] - 3s 2ms/step - loss: 0.2498 - accuracy: 0.9398 - val_loss: 0.2160 - val_accuracy: 0.9449\n",
      "Epoch 11/25\n",
      "1407/1407 [==============================] - 3s 2ms/step - loss: 0.2302 - accuracy: 0.9410 - val_loss: 0.2568 - val_accuracy: 0.9412\n",
      "Epoch 12/25\n",
      "1407/1407 [==============================] - 3s 2ms/step - loss: 0.2762 - accuracy: 0.9343 - val_loss: 0.3182 - val_accuracy: 0.9297\n",
      "Epoch 13/25\n",
      "1407/1407 [==============================] - 3s 2ms/step - loss: 0.2334 - accuracy: 0.9419 - val_loss: 0.2228 - val_accuracy: 0.9482\n",
      "Epoch 14/25\n",
      "1407/1407 [==============================] - 3s 2ms/step - loss: 0.3182 - accuracy: 0.9262 - val_loss: 0.2447 - val_accuracy: 0.9417\n",
      "Epoch 15/25\n",
      "1407/1407 [==============================] - 3s 2ms/step - loss: 0.2681 - accuracy: 0.9371 - val_loss: 0.2980 - val_accuracy: 0.9325\n",
      "Epoch 16/25\n",
      "1407/1407 [==============================] - 3s 2ms/step - loss: 0.2699 - accuracy: 0.9367 - val_loss: 0.2212 - val_accuracy: 0.9449\n",
      "Epoch 17/25\n",
      "1407/1407 [==============================] - 3s 2ms/step - loss: 0.2647 - accuracy: 0.9379 - val_loss: 0.2720 - val_accuracy: 0.9408\n",
      "Epoch 18/25\n",
      "1407/1407 [==============================] - 3s 2ms/step - loss: 0.2721 - accuracy: 0.9362 - val_loss: 0.3440 - val_accuracy: 0.9204\n",
      "Epoch 19/25\n",
      "1407/1407 [==============================] - 3s 2ms/step - loss: 0.2603 - accuracy: 0.9397 - val_loss: 0.2097 - val_accuracy: 0.9520\n",
      "Epoch 20/25\n",
      "1407/1407 [==============================] - 3s 2ms/step - loss: 0.2494 - accuracy: 0.9394 - val_loss: 0.2475 - val_accuracy: 0.9399\n",
      "Epoch 21/25\n",
      "1407/1407 [==============================] - 3s 2ms/step - loss: 0.2898 - accuracy: 0.9310 - val_loss: 0.2618 - val_accuracy: 0.9431\n",
      "Epoch 22/25\n",
      "1407/1407 [==============================] - 3s 2ms/step - loss: 0.3342 - accuracy: 0.9186 - val_loss: 0.3354 - val_accuracy: 0.9167\n",
      "Epoch 23/25\n",
      "1407/1407 [==============================] - 3s 2ms/step - loss: 0.2905 - accuracy: 0.9276 - val_loss: 0.2359 - val_accuracy: 0.9379\n",
      "Epoch 24/25\n",
      "1407/1407 [==============================] - 3s 2ms/step - loss: 0.2528 - accuracy: 0.9365 - val_loss: 0.2169 - val_accuracy: 0.9457\n",
      "Epoch 25/25\n",
      "1407/1407 [==============================] - 4s 2ms/step - loss: 0.2678 - accuracy: 0.9323 - val_loss: 0.2418 - val_accuracy: 0.9384\n"
     ]
    },
    {
     "data": {
      "text/plain": [
       "<keras.callbacks.History at 0x196ff5198e0>"
      ]
     },
     "execution_count": 41,
     "metadata": {},
     "output_type": "execute_result"
    }
   ],
   "source": [
    "# 학습 : 약 2분 소요(GPU)\n",
    "model.fit(x_train,y_train,epochs=25,validation_split=0.25)"
   ]
  },
  {
   "cell_type": "code",
   "execution_count": 42,
   "id": "ce6b1e10",
   "metadata": {},
   "outputs": [
    {
     "name": "stdout",
     "output_type": "stream",
     "text": [
      "313/313 [==============================] - 1s 2ms/step - loss: 0.2443 - accuracy: 0.9395\n"
     ]
    },
    {
     "data": {
      "text/plain": [
       "[0.24431577324867249, 0.9394999742507935]"
      ]
     },
     "execution_count": 42,
     "metadata": {},
     "output_type": "execute_result"
    }
   ],
   "source": [
    "# 평가\n",
    "model.evaluate(x_test,y_test)\n",
    "# [0.24431577324867249, 0.9394999742507935]"
   ]
  },
  {
   "cell_type": "code",
   "execution_count": 51,
   "id": "1562b777",
   "metadata": {},
   "outputs": [
    {
     "name": "stdout",
     "output_type": "stream",
     "text": [
      "Model: \"sequential_20\"\n",
      "_________________________________________________________________\n",
      " Layer (type)                Output Shape              Param #   \n",
      "=================================================================\n",
      " conv2d_52 (Conv2D)          (None, 28, 28, 32)        320       \n",
      "                                                                 \n",
      " conv2d_53 (Conv2D)          (None, 28, 28, 64)        18496     \n",
      "                                                                 \n",
      " max_pooling2d_37 (MaxPoolin  (None, 14, 14, 64)       0         \n",
      " g2D)                                                            \n",
      "                                                                 \n",
      " dropout_14 (Dropout)        (None, 14, 14, 64)        0         \n",
      "                                                                 \n",
      " conv2d_54 (Conv2D)          (None, 14, 14, 128)       73856     \n",
      "                                                                 \n",
      " conv2d_55 (Conv2D)          (None, 12, 12, 256)       295168    \n",
      "                                                                 \n",
      " max_pooling2d_38 (MaxPoolin  (None, 6, 6, 256)        0         \n",
      " g2D)                                                            \n",
      "                                                                 \n",
      " dropout_15 (Dropout)        (None, 6, 6, 256)         0         \n",
      "                                                                 \n",
      " flatten_12 (Flatten)        (None, 9216)              0         \n",
      "                                                                 \n",
      " dense_31 (Dense)            (None, 512)               4719104   \n",
      "                                                                 \n",
      " dropout_16 (Dropout)        (None, 512)               0         \n",
      "                                                                 \n",
      " dense_32 (Dense)            (None, 256)               131328    \n",
      "                                                                 \n",
      " dropout_17 (Dropout)        (None, 256)               0         \n",
      "                                                                 \n",
      " dense_33 (Dense)            (None, 10)                2570      \n",
      "                                                                 \n",
      "=================================================================\n",
      "Total params: 5,240,842\n",
      "Trainable params: 5,240,842\n",
      "Non-trainable params: 0\n",
      "_________________________________________________________________\n"
     ]
    }
   ],
   "source": [
    "# VGGNet (VGG-19) 스타일의 MNIST 분류 CNN 모델 \n",
    "#--------------------------------------------\n",
    "# ( Conv2D * 2개  --> MaxPool2D ) * 2회 : 4층\n",
    "# ( Conv2D * 4개  --> MaxPool2D ) * 3회 : 12층\n",
    "# Dense * 3개                           : 3층\n",
    "#--------------------------------------------\n",
    "#                                     총 19층\n",
    "#--------------------------------------------\n",
    "# 각 네트워크마다 필터의 수를 2배로 증가 시킨다 : 32-->64-->128-->256-->512\n",
    "\n",
    "model = tf.keras.Sequential([\n",
    "    tf.keras.layers.Conv2D(filters=32,kernel_size=(3,3),padding='same',\n",
    "                           activation='relu',input_shape=(28,28,1)),\n",
    "    tf.keras.layers.Conv2D(filters=64,kernel_size=(3,3),padding='same',\n",
    "                           activation='relu'),\n",
    "    tf.keras.layers.MaxPool2D(pool_size=(2,2)),\n",
    "    tf.keras.layers.Dropout(0.5),\n",
    "    \n",
    "    tf.keras.layers.Conv2D(filters=128,kernel_size=(3,3),padding='same',\n",
    "                           activation='relu'),\n",
    "    tf.keras.layers.Conv2D(filters=256,kernel_size=(3,3),padding='valid',\n",
    "                           activation='relu'),\n",
    "    tf.keras.layers.MaxPool2D(pool_size=(2,2)),\n",
    "    tf.keras.layers.Dropout(0.5),  \n",
    "    \n",
    "    tf.keras.layers.Flatten(),\n",
    "    tf.keras.layers.Dense(units=512,activation='relu'),\n",
    "    tf.keras.layers.Dropout(0.5),\n",
    "    tf.keras.layers.Dense(units=256,activation='relu'),\n",
    "    tf.keras.layers.Dropout(0.5),\n",
    "    tf.keras.layers.Dense(units=10,activation='softmax')\n",
    "])\n",
    "\n",
    "model.compile(optimizer=tf.keras.optimizers.Adam(),\n",
    "             loss='sparse_categorical_crossentropy',\n",
    "             metrics=['accuracy'])\n",
    "\n",
    "model.summary()"
   ]
  },
  {
   "cell_type": "markdown",
   "id": "07407566",
   "metadata": {},
   "source": [
    "### 모델 개선"
   ]
  },
  {
   "cell_type": "code",
   "execution_count": 52,
   "id": "dcc966d4",
   "metadata": {},
   "outputs": [
    {
     "name": "stdout",
     "output_type": "stream",
     "text": [
      "Epoch 1/25\n",
      "1407/1407 [==============================] - 10s 7ms/step - loss: 0.7166 - accuracy: 0.8278 - val_loss: 0.0813 - val_accuracy: 0.9759\n",
      "Epoch 2/25\n",
      "1407/1407 [==============================] - 9s 7ms/step - loss: 0.1795 - accuracy: 0.9498 - val_loss: 0.0716 - val_accuracy: 0.9787\n",
      "Epoch 3/25\n",
      "1407/1407 [==============================] - 10s 7ms/step - loss: 0.1427 - accuracy: 0.9611 - val_loss: 0.0524 - val_accuracy: 0.9853\n",
      "Epoch 4/25\n",
      "1407/1407 [==============================] - 10s 7ms/step - loss: 0.1261 - accuracy: 0.9667 - val_loss: 0.0471 - val_accuracy: 0.9865\n",
      "Epoch 5/25\n",
      "1407/1407 [==============================] - 9s 7ms/step - loss: 0.1196 - accuracy: 0.9675 - val_loss: 0.0580 - val_accuracy: 0.9848\n",
      "Epoch 6/25\n",
      "1407/1407 [==============================] - 9s 7ms/step - loss: 0.1094 - accuracy: 0.9709 - val_loss: 0.0400 - val_accuracy: 0.9894\n",
      "Epoch 7/25\n",
      "1407/1407 [==============================] - 9s 7ms/step - loss: 0.1049 - accuracy: 0.9724 - val_loss: 0.0516 - val_accuracy: 0.9865\n",
      "Epoch 8/25\n",
      "1407/1407 [==============================] - 10s 7ms/step - loss: 0.1044 - accuracy: 0.9732 - val_loss: 0.0456 - val_accuracy: 0.9879\n",
      "Epoch 9/25\n",
      "1407/1407 [==============================] - 9s 7ms/step - loss: 0.0990 - accuracy: 0.9752 - val_loss: 0.0394 - val_accuracy: 0.9902\n",
      "Epoch 10/25\n",
      "1407/1407 [==============================] - 10s 7ms/step - loss: 0.1012 - accuracy: 0.9735 - val_loss: 0.0464 - val_accuracy: 0.9875\n",
      "Epoch 11/25\n",
      "1407/1407 [==============================] - 9s 7ms/step - loss: 0.0910 - accuracy: 0.9771 - val_loss: 0.0435 - val_accuracy: 0.9897\n",
      "Epoch 12/25\n",
      "1407/1407 [==============================] - 9s 7ms/step - loss: 0.0875 - accuracy: 0.9776 - val_loss: 0.0442 - val_accuracy: 0.9893\n",
      "Epoch 13/25\n",
      "1407/1407 [==============================] - 10s 7ms/step - loss: 0.0863 - accuracy: 0.9778 - val_loss: 0.0529 - val_accuracy: 0.9856\n",
      "Epoch 14/25\n",
      "1407/1407 [==============================] - 10s 7ms/step - loss: 0.0839 - accuracy: 0.9782 - val_loss: 0.0491 - val_accuracy: 0.9881\n",
      "Epoch 15/25\n",
      "1407/1407 [==============================] - 10s 7ms/step - loss: 0.0886 - accuracy: 0.9774 - val_loss: 0.0375 - val_accuracy: 0.9901\n",
      "Epoch 16/25\n",
      "1407/1407 [==============================] - 10s 7ms/step - loss: 0.0851 - accuracy: 0.9790 - val_loss: 0.0393 - val_accuracy: 0.9890\n",
      "Epoch 17/25\n",
      "1407/1407 [==============================] - 9s 6ms/step - loss: 0.0868 - accuracy: 0.9772 - val_loss: 0.0421 - val_accuracy: 0.9885\n",
      "Epoch 18/25\n",
      "1407/1407 [==============================] - 9s 7ms/step - loss: 0.0826 - accuracy: 0.9791 - val_loss: 0.0386 - val_accuracy: 0.9907\n",
      "Epoch 19/25\n",
      "1407/1407 [==============================] - 9s 7ms/step - loss: 0.0775 - accuracy: 0.9806 - val_loss: 0.0369 - val_accuracy: 0.9913\n",
      "Epoch 20/25\n",
      "1407/1407 [==============================] - 9s 7ms/step - loss: 0.0828 - accuracy: 0.9799 - val_loss: 0.0378 - val_accuracy: 0.9910\n",
      "Epoch 21/25\n",
      "1407/1407 [==============================] - 9s 7ms/step - loss: 0.0953 - accuracy: 0.9768 - val_loss: 0.0370 - val_accuracy: 0.9898\n",
      "Epoch 22/25\n",
      "1407/1407 [==============================] - 9s 7ms/step - loss: 0.0770 - accuracy: 0.9810 - val_loss: 0.0415 - val_accuracy: 0.9894\n",
      "Epoch 23/25\n",
      "1407/1407 [==============================] - 9s 7ms/step - loss: 0.0748 - accuracy: 0.9813 - val_loss: 0.0391 - val_accuracy: 0.9900\n",
      "Epoch 24/25\n",
      "1407/1407 [==============================] - 9s 7ms/step - loss: 0.0822 - accuracy: 0.9796 - val_loss: 0.0329 - val_accuracy: 0.9915\n",
      "Epoch 25/25\n",
      "1407/1407 [==============================] - 9s 6ms/step - loss: 0.0706 - accuracy: 0.9827 - val_loss: 0.0436 - val_accuracy: 0.9903\n"
     ]
    },
    {
     "data": {
      "text/plain": [
       "<keras.callbacks.History at 0x1970e0f3d00>"
      ]
     },
     "execution_count": 52,
     "metadata": {},
     "output_type": "execute_result"
    }
   ],
   "source": [
    "# 학습 : 약 4분 소요(GPU)\n",
    "model.fit(x_train,y_train,epochs=25,validation_split=0.25)"
   ]
  },
  {
   "cell_type": "code",
   "execution_count": 53,
   "id": "f440a08c",
   "metadata": {},
   "outputs": [
    {
     "name": "stdout",
     "output_type": "stream",
     "text": [
      "313/313 [==============================] - 1s 3ms/step - loss: 0.0352 - accuracy: 0.9916\n"
     ]
    },
    {
     "data": {
      "text/plain": [
       "[0.03516495227813721, 0.991599977016449]"
      ]
     },
     "execution_count": 53,
     "metadata": {},
     "output_type": "execute_result"
    }
   ],
   "source": [
    "# 평가\n",
    "model.evaluate(x_test,y_test) # Accuracy : 0.991599977016449"
   ]
  },
  {
   "cell_type": "code",
   "execution_count": null,
   "id": "6bac3578",
   "metadata": {},
   "outputs": [],
   "source": []
  },
  {
   "cell_type": "code",
   "execution_count": null,
   "id": "354c11ba",
   "metadata": {},
   "outputs": [],
   "source": []
  }
 ],
 "metadata": {
  "kernelspec": {
   "display_name": "Python 3 (ipykernel)",
   "language": "python",
   "name": "python3"
  },
  "language_info": {
   "codemirror_mode": {
    "name": "ipython",
    "version": 3
   },
   "file_extension": ".py",
   "mimetype": "text/x-python",
   "name": "python",
   "nbconvert_exporter": "python",
   "pygments_lexer": "ipython3",
   "version": "3.9.13"
  }
 },
 "nbformat": 4,
 "nbformat_minor": 5
}
